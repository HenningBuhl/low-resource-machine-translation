{
 "cells": [
  {
   "cell_type": "markdown",
   "id": "e96793b1",
   "metadata": {
    "id": "e96793b1"
   },
   "source": [
    "# Train Baseline"
   ]
  },
  {
   "cell_type": "markdown",
   "id": "z-qAgNSW-kR3",
   "metadata": {
    "id": "z-qAgNSW-kR3"
   },
   "source": [
    "smol explanation..."
   ]
  },
  {
   "cell_type": "markdown",
   "id": "DSA8xcUC67as",
   "metadata": {
    "id": "DSA8xcUC67as"
   },
   "source": [
    "## Setup"
   ]
  },
  {
   "cell_type": "markdown",
   "id": "27fafae3",
   "metadata": {
    "id": "27fafae3"
   },
   "source": [
    "### Environment"
   ]
  },
  {
   "cell_type": "code",
   "execution_count": 1,
   "id": "ac63e205",
   "metadata": {
    "id": "ac63e205"
   },
   "outputs": [],
   "source": [
    "# If this is a notebook which is executed in colab [in_colab=True]:\n",
    "#  1. Mount google drive and use the repository in there [mount_drive=True] (the repository must be in your google drive root folder).\n",
    "#  2. Clone repository to remote machine [mount_drive=False].\n",
    "in_colab = False\n",
    "mount_drive = True\n",
    "\n",
    "try:\n",
    "    # Check if running in colab.\n",
    "    in_colab = 'google.colab' in str(get_ipython())\n",
    "except:\n",
    "    pass\n",
    "\n",
    "if in_colab:\n",
    "    if mount_drive:\n",
    "        # Mount google drive and navigate to it.\n",
    "        from google.colab import drive\n",
    "        drive.mount('/content/drive')\n",
    "        %cd drive/MyDrive\n",
    "    else:\n",
    "        # Pull repository.\n",
    "        !git clone https://github.com/HenningBuhl/low-resource-machine-translation\n",
    "\n",
    "    # Workaround for problem with undefined symbols (https://github.com/scverse/scvi-tools/issues/1464).\n",
    "    !pip install --quiet scvi-colab\n",
    "    from scvi_colab import install\n",
    "    install()\n",
    "\n",
    "    # Navigate to the repository and install requirements.\n",
    "    %cd low-resource-machine-translation\n",
    "    !pip install -r requirements.txt\n",
    "\n",
    "    # Navigate to notebook location.\n",
    "    %cd experiments"
   ]
  },
  {
   "cell_type": "code",
   "execution_count": 2,
   "id": "56863ecd",
   "metadata": {
    "id": "56863ecd"
   },
   "outputs": [],
   "source": [
    "# Add src module directory to system path for subsecuent imports.\n",
    "import sys\n",
    "sys.path.insert(0, '../src')"
   ]
  },
  {
   "cell_type": "code",
   "execution_count": 3,
   "id": "2671bbc2",
   "metadata": {
    "id": "2671bbc2"
   },
   "outputs": [],
   "source": [
    "from util import is_notebook\n",
    "\n",
    "# Settings and module reloading (only in Jupyter Notebooks).\n",
    "if is_notebook():\n",
    "    # Module reloading.\n",
    "    %load_ext autoreload\n",
    "    %autoreload 2\n",
    "\n",
    "    # Plot settings.\n",
    "    %matplotlib inline"
   ]
  },
  {
   "cell_type": "markdown",
   "id": "t116PPgfTap1",
   "metadata": {
    "id": "t116PPgfTap1"
   },
   "source": [
    "### Imports"
   ]
  },
  {
   "cell_type": "code",
   "execution_count": 4,
   "id": "060a4467",
   "metadata": {
    "id": "060a4467"
   },
   "outputs": [],
   "source": [
    "# From packages.\n",
    "import pytorch_lightning as pl\n",
    "\n",
    "# From repository.\n",
    "from arguments import *\n",
    "from benchmark import *\n",
    "from calc import *\n",
    "from constants import *\n",
    "from data import *\n",
    "from layers import *\n",
    "from metric_logging import *\n",
    "from plotting import *\n",
    "from path_management import *\n",
    "from tokenizer import *\n",
    "from transformer import *\n",
    "from util import *"
   ]
  },
  {
   "cell_type": "markdown",
   "id": "NDQW2rot7d0n",
   "metadata": {
    "id": "NDQW2rot7d0n"
   },
   "source": [
    "### Arguments"
   ]
  },
  {
   "cell_type": "code",
   "execution_count": 5,
   "id": "6d5b0649",
   "metadata": {
    "id": "6d5b0649"
   },
   "outputs": [
    {
     "name": "stdout",
     "output_type": "stream",
     "text": [
      "Arguments:\n",
      "Namespace(dev_run=False, fresh_run=False, seed=0, src_lang='de', tgt_lang='nl', eval_before_train=False, track_bleu=True, track_ter=False, track_tp=False, track_chrf=False, shuffle_before_split=False, num_val_examples=3000, num_test_examples=3000, src_vocab_size=16000, src_char_coverage=1.0, tgt_vocab_size=16000, tgt_char_coverage=1.0, num_layers=6, d_model=512, dropout_rate=0.1, num_heads=8, d_ff=2048, max_len=128, learning_rate=0.0001, weight_decay=0, beta_1=0.9, beta_2=0.98, enable_scheduling=False, warm_up_steps=4000, batch_size=80, label_smoothing=0, max_epochs=10, max_examples=-1, shuffle_train_data=True, gpus=1, num_workers=4, ckpt_path=None, enable_early_stopping=False, enable_checkpointing=False, monitor='val_loss', min_delta=0, patience=3, mode='min')\n"
     ]
    }
   ],
   "source": [
    "# Define arguments with argparse.\n",
    "import argparse\n",
    "from distutils.util import strtobool\n",
    "parser = argparse.ArgumentParser(formatter_class=argparse.ArgumentDefaultsHelpFormatter)\n",
    "\n",
    "# Experiment.\n",
    "parser.add_argument('--dev-run', default=False, type=strtobool, help='Executes a fast dev run instead of fully training.')\n",
    "parser.add_argument('--fresh-run', default=False, type=strtobool, help='Ignores all cashed data on disk, reruns generation and overwrites everything.')\n",
    "parser.add_argument('--seed', default=0, type=int, help='The random seed of the program.')\n",
    "parser.add_argument('--src-lang', default='de', type=str, help='The source language.')\n",
    "parser.add_argument('--tgt-lang', default='nl', type=str, help='The target language.')\n",
    "parser.add_argument('--eval-before-train', default=False, type=strtobool, help='Evaluate the model on the validation data before training.')\n",
    "\n",
    "# Metrics.\n",
    "parser.add_argument('--track-bleu', default=True, type=strtobool, help='Whether to track the SacreBLEU score metric.')\n",
    "parser.add_argument('--track-ter', default=False, type=strtobool, help='Whether to track the translation edit rate metric.')\n",
    "parser.add_argument('--track-tp', default=False, type=strtobool, help='Whether to track the translation perplexity metric.')\n",
    "parser.add_argument('--track-chrf', default=False, type=strtobool, help='Whether to track the CHRF score metric.')\n",
    "\n",
    "# Data.\n",
    "parser.add_argument('--shuffle-before-split', default=False, type=strtobool, help='Whether to shuffle the data before creating the train, validation and test sets.')\n",
    "parser.add_argument('--num-val-examples', default=3000, type=int, help='The number of validation examples.') \n",
    "parser.add_argument('--num-test-examples', default=3000, type=int, help='The number of test examples.')\n",
    "\n",
    "# Tokenization.\n",
    "parser.add_argument('--src-vocab-size', default=16000, type=int, help='The vocabulary size of the source language tokenizer.')\n",
    "parser.add_argument('--src-char-coverage', default=1.0, type=float, help='The character coverage (percentage) of the source language tokenizer.')\n",
    "parser.add_argument('--tgt-vocab-size', default=16000, type=int, help='The vocabulary size of the target language tokenizer.')\n",
    "parser.add_argument('--tgt-char-coverage', default=1.0, type=float, help='The character coverage (percentage) of the target language tokenizer.')\n",
    "\n",
    "# Architecture.\n",
    "parser.add_argument('--num-layers', default=6, type=int, help='The number of encoder and decoder layers.')\n",
    "parser.add_argument('--d-model', default=512, type=int, help='The embedding size.')\n",
    "parser.add_argument('--dropout-rate', default=0.1, type=float, help='The dropout rate.')\n",
    "parser.add_argument('--num-heads', default=8, type=int, help='The number of attention heads.')\n",
    "parser.add_argument('--d-ff', default=2048, type=int, help='The feed forward dimension.')\n",
    "parser.add_argument('--max-len', default=128, type=int, help='The maximum sequence length.')\n",
    "\n",
    "# Optimizer.\n",
    "parser.add_argument('--learning-rate', default=1e-4, type=float, help='The learning rate.')\n",
    "parser.add_argument('--weight-decay', default=0, type=float, help='The weight decay.')\n",
    "parser.add_argument('--beta-1', default=0.9, type=float, help='Beta_1 parameter of Adam.')\n",
    "parser.add_argument('--beta-2', default=0.98, type=float, help='Beta_2 parameter of Adam.')\n",
    "\n",
    "# Scheduler.\n",
    "parser.add_argument('--enable-scheduling', default=False, type=strtobool, help='Whether to enable scheduling.')\n",
    "parser.add_argument('--warm-up-steps', default=4000, type=int, help='The number of warm up steps.')\n",
    "\n",
    "# Training.\n",
    "parser.add_argument('--batch-size', default=80, type=int, help='The batch size.')\n",
    "parser.add_argument('--label-smoothing', default=0, type=float, help='The amount of smoothing when calculating the loss.')\n",
    "parser.add_argument('--max-epochs', default=10, type=int, help='The maximum number of training epochs.')\n",
    "parser.add_argument('--max-examples', default=-1, type=int, help='The maximum number of training examples.')\n",
    "parser.add_argument('--shuffle-train-data', default=True, type=strtobool, help='Whether to shuffle the training data during training.')\n",
    "parser.add_argument('--gpus', default=1, type=int, help='The number of GPUs.')\n",
    "parser.add_argument('--num-workers', default=4, type=int, help='The number of pytorch workers.')\n",
    "parser.add_argument('--ckpt-path', default=None, type=str, help='The model checkpoint form which to resume training.')\n",
    "\n",
    "# Early Stopping + Model Checkpoint.\n",
    "parser.add_argument('--enable-early-stopping', default=False, type=strtobool, help='Whether to enable early stopping.')\n",
    "parser.add_argument('--enable-checkpointing', default=False, type=strtobool, help='Whether to enable checkpointing. The best and the last version of the model are saved.')\n",
    "parser.add_argument('--monitor', default='val_loss', type=str, help='The metric to monitor.')\n",
    "parser.add_argument('--min-delta', default=0, type=float, help='The minimum change the metric must achieve.')\n",
    "parser.add_argument('--patience', default=3, type=int, help='Number of epochs that the monitored metric has time to improve.')\n",
    "parser.add_argument('--mode', default='min', type=str, choices=['min', 'max'], help='How the monitored metric should improve.')\n",
    "\n",
    "# Parse args.\n",
    "if is_notebook():\n",
    "    sys.argv = ['-f']  # Used to make argparse work in jupyter notebooks (all args must be optional).\n",
    "    args, _ = parser.parse_known_args()  # -f can lead to unknown argument.\n",
    "else:\n",
    "    args = parser.parse_args()\n",
    "\n",
    "# Print args.\n",
    "print('Arguments:')\n",
    "print(args)"
   ]
  },
  {
   "cell_type": "code",
   "execution_count": 6,
   "id": "2VWCabcjvgiT",
   "metadata": {
    "id": "2VWCabcjvgiT"
   },
   "outputs": [],
   "source": [
    "# Auto-infer args.\n",
    "auto_infer_args(args)"
   ]
  },
  {
   "cell_type": "code",
   "execution_count": 34,
   "id": "5pEUXxmyTMmw",
   "metadata": {
    "id": "5pEUXxmyTMmw"
   },
   "outputs": [
    {
     "name": "stdout",
     "output_type": "stream",
     "text": [
      "Adjusted args in notebook\n"
     ]
    }
   ],
   "source": [
    "# Adjust arguments for test purposes.\n",
    "if is_notebook() and True:  # Quickly turn on and off with 'and True/False'.\n",
    "    #args.dev_run = True\n",
    "    #args.fresh_run = True\n",
    "    args.max_epochs = 10 # 2\n",
    "    args.batch_size = 1\n",
    "    args.max_examples = 2\n",
    "    args.num_val_examples = 1\n",
    "    args.num_test_examples = 1\n",
    "\n",
    "    #args.enable_checkpointing = True\n",
    "    #args.enable_early_stopping = True\n",
    "\n",
    "    #args.eval_before_train = False\n",
    "\n",
    "    #args.label_smoothing = 0.1\n",
    "\n",
    "    #args.track_ter = True\n",
    "    #args.track_tp = True\n",
    "    #args.track_chrf = True\n",
    "    print('Adjusted args in notebook')"
   ]
  },
  {
   "cell_type": "code",
   "execution_count": 35,
   "id": "Jeeda_XMY5lZ",
   "metadata": {
    "id": "Jeeda_XMY5lZ"
   },
   "outputs": [],
   "source": [
    "# Sanity check args.\n",
    "sanity_check_args(args)"
   ]
  },
  {
   "cell_type": "markdown",
   "id": "OpSSObjs69g6",
   "metadata": {
    "id": "OpSSObjs69g6"
   },
   "source": [
    "### Seed"
   ]
  },
  {
   "cell_type": "code",
   "execution_count": 36,
   "id": "oeC5Td1c69A7",
   "metadata": {
    "id": "oeC5Td1c69A7"
   },
   "outputs": [
    {
     "name": "stderr",
     "output_type": "stream",
     "text": [
      "Global seed set to 0\n"
     ]
    },
    {
     "data": {
      "text/plain": [
       "0"
      ]
     },
     "execution_count": 36,
     "metadata": {},
     "output_type": "execute_result"
    }
   ],
   "source": [
    "# Set seed.\n",
    "from pytorch_lightning import seed_everything\n",
    "seed_everything(args.seed, workers=True)"
   ]
  },
  {
   "cell_type": "markdown",
   "id": "jcklieExTMm2",
   "metadata": {
    "id": "jcklieExTMm2"
   },
   "source": [
    "### Paths"
   ]
  },
  {
   "cell_type": "code",
   "execution_count": 37,
   "id": "428bec54",
   "metadata": {
    "id": "428bec54"
   },
   "outputs": [
    {
     "name": "stdout",
     "output_type": "stream",
     "text": [
      "Dir \"./data\" already exists.\n",
      "Dir \"./models\" already exists.\n",
      "Dir \"./runs\" already exists.\n",
      "Dir \"./tokenizers\" already exists.\n",
      "Dir \"./runs\\baseline-de-nl-2022.10.01-13.22.48\" does not exist, creating it.\n",
      "Dir \"./runs\\baseline-de-nl-2022.10.01-13.22.48\\baseline\" does not exist, creating it.\n",
      "Dir \"./runs\\baseline-de-nl-2022.10.01-13.22.48\\baseline\\checkpoints\" does not exist, creating it.\n",
      "Dir \"./runs\\baseline-de-nl-2022.10.01-13.22.48\\baseline\\metrics\" does not exist, creating it.\n"
     ]
    }
   ],
   "source": [
    "# Create directories and create file names.\n",
    "pm = ExperimentPathManager(f'baseline-{args.src_lang}-{args.tgt_lang}', 'baseline')\n",
    "pm.init()"
   ]
  },
  {
   "cell_type": "code",
   "execution_count": 38,
   "id": "WHCPZbsxJKFP",
   "metadata": {
    "id": "WHCPZbsxJKFP"
   },
   "outputs": [],
   "source": [
    "# Save arguments.\n",
    "save_dict(pm.args_file, args.__dict__)"
   ]
  },
  {
   "cell_type": "markdown",
   "id": "rkW_NDcO6Juj",
   "metadata": {
    "id": "rkW_NDcO6Juj"
   },
   "source": [
    "## Data Preprocessing"
   ]
  },
  {
   "cell_type": "code",
   "execution_count": 39,
   "id": "zKYC6ckyhpIm",
   "metadata": {
    "id": "zKYC6ckyhpIm"
   },
   "outputs": [],
   "source": [
    "# Create PreProcessor.\n",
    "pp = PreProcessor(args.src_lang, args.tgt_lang)"
   ]
  },
  {
   "cell_type": "markdown",
   "id": "ox3-TzsEXxdX",
   "metadata": {
    "id": "ox3-TzsEXxdX"
   },
   "source": [
    "### Splitting"
   ]
  },
  {
   "cell_type": "code",
   "execution_count": 40,
   "id": "7ggKhSn0GV5f",
   "metadata": {
    "id": "7ggKhSn0GV5f"
   },
   "outputs": [
    {
     "name": "stdout",
     "output_type": "stream",
     "text": [
      "Data is already split.\n"
     ]
    }
   ],
   "source": [
    "# Split data into (train, val, test) sets.\n",
    "pp.split_data(args.shuffle_before_split, args.num_val_examples, args.num_test_examples, args.fresh_run)"
   ]
  },
  {
   "cell_type": "markdown",
   "id": "l2iA4BU06AS1",
   "metadata": {
    "id": "l2iA4BU06AS1"
   },
   "source": [
    "### Tokenizers"
   ]
  },
  {
   "cell_type": "code",
   "execution_count": 41,
   "id": "ujigJp-A6AL-",
   "metadata": {
    "id": "ujigJp-A6AL-"
   },
   "outputs": [
    {
     "name": "stdout",
     "output_type": "stream",
     "text": [
      "Loading tokenizer from disk.\n",
      "Loading tokenizer from disk.\n"
     ]
    }
   ],
   "source": [
    "# Load tokenizers.\n",
    "src_tokenizer = TokenizerBuilder(args.src_lang, args.tgt_lang).build(\n",
    "    args.src_vocab_size, args.src_char_coverage, fresh_run=args.fresh_run)\n",
    "tgt_tokenizer = TokenizerBuilder(args.tgt_lang, args.src_lang).build(\n",
    "    args.tgt_vocab_size, args.tgt_char_coverage, fresh_run=args.fresh_run)"
   ]
  },
  {
   "cell_type": "markdown",
   "id": "bSN0TBQf6AGG",
   "metadata": {
    "id": "bSN0TBQf6AGG"
   },
   "source": [
    "### Preparation"
   ]
  },
  {
   "cell_type": "code",
   "execution_count": 42,
   "id": "NNeDWIrXWhBH",
   "metadata": {
    "id": "NNeDWIrXWhBH"
   },
   "outputs": [
    {
     "name": "stdout",
     "output_type": "stream",
     "text": [
      "Loading tokenized data from disk.\n",
      "Limiting training data to 10000\n"
     ]
    }
   ],
   "source": [
    "# Load dataloaders.\n",
    "train_dataloader, val_dataloader, test_dataloader = pp.pre_process(src_tokenizer, tgt_tokenizer, args.batch_size, args.shuffle_train_data, args.max_examples, args.max_len, fresh_run=args.fresh_run)"
   ]
  },
  {
   "cell_type": "markdown",
   "id": "7yKXjhQF7QEG",
   "metadata": {
    "id": "7yKXjhQF7QEG"
   },
   "source": [
    "## Experiment"
   ]
  },
  {
   "cell_type": "markdown",
   "id": "yYT-y8Ng6sd7",
   "metadata": {
    "id": "yYT-y8Ng6sd7"
   },
   "source": [
    "### Model"
   ]
  },
  {
   "cell_type": "code",
   "execution_count": 44,
   "id": "24da631a",
   "metadata": {
    "id": "24da631a"
   },
   "outputs": [],
   "source": [
    "# Create model.\n",
    "model = Transformer(\n",
    "    src_tokenizer,\n",
    "    tgt_tokenizer,\n",
    "    args.learning_rate,\n",
    "    args.weight_decay,\n",
    "    args.beta_1,\n",
    "    args.beta_2,\n",
    "    args.enable_scheduling,\n",
    "    args.warm_up_steps,\n",
    "    args.num_layers,\n",
    "    args.d_model,\n",
    "    args.dropout_rate,\n",
    "    args.num_heads,\n",
    "    args.d_ff,\n",
    "    args.max_len,\n",
    "    args.label_smoothing,\n",
    "    args.track_bleu,\n",
    "    args.track_ter,\n",
    "    args.track_tp,\n",
    "    args.track_chrf,\n",
    ")"
   ]
  },
  {
   "cell_type": "code",
   "execution_count": 19,
   "id": "C10ZdzrB_P0s",
   "metadata": {
    "id": "C10ZdzrB_P0s"
   },
   "outputs": [],
   "source": [
    "# Save untrained model.\n",
    "model.save(pm.baseline.untrained_model_file)"
   ]
  },
  {
   "cell_type": "markdown",
   "id": "ltyUst9C6uag",
   "metadata": {
    "id": "ltyUst9C6uag"
   },
   "source": [
    "### Training"
   ]
  },
  {
   "cell_type": "code",
   "execution_count": 45,
   "id": "HV-98vnbuklw",
   "metadata": {
    "id": "HV-98vnbuklw"
   },
   "outputs": [],
   "source": [
    "# Create callbacks.\n",
    "callbacks = []\n",
    "\n",
    "if args.enable_checkpointing:\n",
    "    model_checkpoint = pl.callbacks.ModelCheckpoint(\n",
    "        monitor=args.monitor,\n",
    "        dirpath=pm.baseline.checkpoint_dir,\n",
    "        filename='{epoch}-{val_loss:.2f}',\n",
    "        save_top_k=1,\n",
    "        save_last=True,\n",
    "        every_n_epochs=1,\n",
    "        verbose=True,\n",
    "    )\n",
    "    callbacks.append(model_checkpoint)\n",
    "\n",
    "if args.enable_early_stopping:\n",
    "    early_stopping_callback = pl.callbacks.EarlyStopping(\n",
    "        monitor=args.monitor,\n",
    "        min_delta=args.min_delta,\n",
    "        patience=args.patience,\n",
    "        mode=args.mode,\n",
    "        verbose=True,\n",
    "    )\n",
    "    callbacks.append(early_stopping_callback)\n",
    "\n",
    "if args.enable_scheduling:\n",
    "    lr_monitor = pl.callbacks.LearningRateMonitor(\n",
    "        logging_interval='step',\n",
    "        log_momentum=True\n",
    "    )\n",
    "    callbacks.append(lr_monitor)"
   ]
  },
  {
   "cell_type": "code",
   "execution_count": 46,
   "id": "edyzoE-JukoR",
   "metadata": {
    "id": "edyzoE-JukoR"
   },
   "outputs": [],
   "source": [
    "# Create metric logger.\n",
    "metric_logger = MetricLogger()"
   ]
  },
  {
   "cell_type": "code",
   "execution_count": 47,
   "id": "6eceaec8",
   "metadata": {
    "id": "6eceaec8"
   },
   "outputs": [
    {
     "name": "stderr",
     "output_type": "stream",
     "text": [
      "GPU available: False, used: False\n",
      "TPU available: False, using: 0 TPU cores\n",
      "IPU available: False, using: 0 IPUs\n",
      "HPU available: False, using: 0 HPUs\n"
     ]
    }
   ],
   "source": [
    "# Create trainer.\n",
    "trainer = pl.Trainer(\n",
    "    deterministic=True,\n",
    "    fast_dev_run=args.dev_run,\n",
    "    max_epochs=args.max_epochs,\n",
    "    logger=metric_logger,\n",
    "    log_every_n_steps=1,\n",
    "    enable_checkpointing=args.enable_checkpointing,\n",
    "    default_root_dir=pm.baseline.checkpoint_dir,\n",
    "    callbacks=callbacks,\n",
    "    gpus=args.gpus if str(device) == 'cuda' else 0\n",
    ")"
   ]
  },
  {
   "cell_type": "code",
   "execution_count": 48,
   "id": "n034DsEQQPxv",
   "metadata": {
    "id": "n034DsEQQPxv"
   },
   "outputs": [],
   "source": [
    "# Evaluate before training.\n",
    "if args.eval_before_train:\n",
    "    trainer.validate(model, dataloaders=val_dataloader)"
   ]
  },
  {
   "cell_type": "code",
   "execution_count": 49,
   "id": "9b270ae5",
   "metadata": {
    "id": "9b270ae5",
    "scrolled": false
   },
   "outputs": [
    {
     "ename": "TypeError",
     "evalue": "super(type, obj): obj must be an instance or subtype of type",
     "output_type": "error",
     "traceback": [
      "\u001b[1;31m---------------------------------------------------------------------------\u001b[0m",
      "\u001b[1;31mTypeError\u001b[0m                                 Traceback (most recent call last)",
      "Cell \u001b[1;32mIn [49], line 2\u001b[0m\n\u001b[0;32m      1\u001b[0m \u001b[38;5;66;03m# Training.\u001b[39;00m\n\u001b[1;32m----> 2\u001b[0m trainer\u001b[38;5;241m.\u001b[39mfit(model,\n\u001b[0;32m      3\u001b[0m             train_dataloaders\u001b[38;5;241m=\u001b[39mtrain_dataloader,\n\u001b[0;32m      4\u001b[0m             val_dataloaders\u001b[38;5;241m=\u001b[39mval_dataloader,\n\u001b[0;32m      5\u001b[0m             ckpt_path\u001b[38;5;241m=\u001b[39margs\u001b[38;5;241m.\u001b[39mckpt_path)\n",
      "File \u001b[1;32m~\\anaconda3\\envs\\mt\\lib\\site-packages\\pytorch_lightning\\trainer\\trainer.py:696\u001b[0m, in \u001b[0;36mTrainer.fit\u001b[1;34m(self, model, train_dataloaders, val_dataloaders, datamodule, ckpt_path)\u001b[0m\n\u001b[0;32m    677\u001b[0m \u001b[38;5;124mr\u001b[39m\u001b[38;5;124;03m\"\"\"\u001b[39;00m\n\u001b[0;32m    678\u001b[0m \u001b[38;5;124;03mRuns the full optimization routine.\u001b[39;00m\n\u001b[0;32m    679\u001b[0m \n\u001b[1;32m   (...)\u001b[0m\n\u001b[0;32m    693\u001b[0m \u001b[38;5;124;03m    datamodule: An instance of :class:`~pytorch_lightning.core.datamodule.LightningDataModule`.\u001b[39;00m\n\u001b[0;32m    694\u001b[0m \u001b[38;5;124;03m\"\"\"\u001b[39;00m\n\u001b[0;32m    695\u001b[0m \u001b[38;5;28mself\u001b[39m\u001b[38;5;241m.\u001b[39mstrategy\u001b[38;5;241m.\u001b[39mmodel \u001b[38;5;241m=\u001b[39m model\n\u001b[1;32m--> 696\u001b[0m \u001b[38;5;28;43mself\u001b[39;49m\u001b[38;5;241;43m.\u001b[39;49m\u001b[43m_call_and_handle_interrupt\u001b[49m\u001b[43m(\u001b[49m\n\u001b[0;32m    697\u001b[0m \u001b[43m    \u001b[49m\u001b[38;5;28;43mself\u001b[39;49m\u001b[38;5;241;43m.\u001b[39;49m\u001b[43m_fit_impl\u001b[49m\u001b[43m,\u001b[49m\u001b[43m \u001b[49m\u001b[43mmodel\u001b[49m\u001b[43m,\u001b[49m\u001b[43m \u001b[49m\u001b[43mtrain_dataloaders\u001b[49m\u001b[43m,\u001b[49m\u001b[43m \u001b[49m\u001b[43mval_dataloaders\u001b[49m\u001b[43m,\u001b[49m\u001b[43m \u001b[49m\u001b[43mdatamodule\u001b[49m\u001b[43m,\u001b[49m\u001b[43m \u001b[49m\u001b[43mckpt_path\u001b[49m\n\u001b[0;32m    698\u001b[0m \u001b[43m\u001b[49m\u001b[43m)\u001b[49m\n",
      "File \u001b[1;32m~\\anaconda3\\envs\\mt\\lib\\site-packages\\pytorch_lightning\\trainer\\trainer.py:650\u001b[0m, in \u001b[0;36mTrainer._call_and_handle_interrupt\u001b[1;34m(self, trainer_fn, *args, **kwargs)\u001b[0m\n\u001b[0;32m    648\u001b[0m         \u001b[38;5;28;01mreturn\u001b[39;00m \u001b[38;5;28mself\u001b[39m\u001b[38;5;241m.\u001b[39mstrategy\u001b[38;5;241m.\u001b[39mlauncher\u001b[38;5;241m.\u001b[39mlaunch(trainer_fn, \u001b[38;5;241m*\u001b[39margs, trainer\u001b[38;5;241m=\u001b[39m\u001b[38;5;28mself\u001b[39m, \u001b[38;5;241m*\u001b[39m\u001b[38;5;241m*\u001b[39mkwargs)\n\u001b[0;32m    649\u001b[0m     \u001b[38;5;28;01melse\u001b[39;00m:\n\u001b[1;32m--> 650\u001b[0m         \u001b[38;5;28;01mreturn\u001b[39;00m trainer_fn(\u001b[38;5;241m*\u001b[39margs, \u001b[38;5;241m*\u001b[39m\u001b[38;5;241m*\u001b[39mkwargs)\n\u001b[0;32m    651\u001b[0m \u001b[38;5;66;03m# TODO(awaelchli): Unify both exceptions below, where `KeyboardError` doesn't re-raise\u001b[39;00m\n\u001b[0;32m    652\u001b[0m \u001b[38;5;28;01mexcept\u001b[39;00m \u001b[38;5;167;01mKeyboardInterrupt\u001b[39;00m \u001b[38;5;28;01mas\u001b[39;00m exception:\n",
      "File \u001b[1;32m~\\anaconda3\\envs\\mt\\lib\\site-packages\\pytorch_lightning\\trainer\\trainer.py:735\u001b[0m, in \u001b[0;36mTrainer._fit_impl\u001b[1;34m(self, model, train_dataloaders, val_dataloaders, datamodule, ckpt_path)\u001b[0m\n\u001b[0;32m    731\u001b[0m ckpt_path \u001b[38;5;241m=\u001b[39m ckpt_path \u001b[38;5;129;01mor\u001b[39;00m \u001b[38;5;28mself\u001b[39m\u001b[38;5;241m.\u001b[39mresume_from_checkpoint\n\u001b[0;32m    732\u001b[0m \u001b[38;5;28mself\u001b[39m\u001b[38;5;241m.\u001b[39m_ckpt_path \u001b[38;5;241m=\u001b[39m \u001b[38;5;28mself\u001b[39m\u001b[38;5;241m.\u001b[39m__set_ckpt_path(\n\u001b[0;32m    733\u001b[0m     ckpt_path, model_provided\u001b[38;5;241m=\u001b[39m\u001b[38;5;28;01mTrue\u001b[39;00m, model_connected\u001b[38;5;241m=\u001b[39m\u001b[38;5;28mself\u001b[39m\u001b[38;5;241m.\u001b[39mlightning_module \u001b[38;5;129;01mis\u001b[39;00m \u001b[38;5;129;01mnot\u001b[39;00m \u001b[38;5;28;01mNone\u001b[39;00m\n\u001b[0;32m    734\u001b[0m )\n\u001b[1;32m--> 735\u001b[0m results \u001b[38;5;241m=\u001b[39m \u001b[38;5;28;43mself\u001b[39;49m\u001b[38;5;241;43m.\u001b[39;49m\u001b[43m_run\u001b[49m\u001b[43m(\u001b[49m\u001b[43mmodel\u001b[49m\u001b[43m,\u001b[49m\u001b[43m \u001b[49m\u001b[43mckpt_path\u001b[49m\u001b[38;5;241;43m=\u001b[39;49m\u001b[38;5;28;43mself\u001b[39;49m\u001b[38;5;241;43m.\u001b[39;49m\u001b[43mckpt_path\u001b[49m\u001b[43m)\u001b[49m\n\u001b[0;32m    737\u001b[0m \u001b[38;5;28;01massert\u001b[39;00m \u001b[38;5;28mself\u001b[39m\u001b[38;5;241m.\u001b[39mstate\u001b[38;5;241m.\u001b[39mstopped\n\u001b[0;32m    738\u001b[0m \u001b[38;5;28mself\u001b[39m\u001b[38;5;241m.\u001b[39mtraining \u001b[38;5;241m=\u001b[39m \u001b[38;5;28;01mFalse\u001b[39;00m\n",
      "File \u001b[1;32m~\\anaconda3\\envs\\mt\\lib\\site-packages\\pytorch_lightning\\trainer\\trainer.py:1147\u001b[0m, in \u001b[0;36mTrainer._run\u001b[1;34m(self, model, ckpt_path)\u001b[0m\n\u001b[0;32m   1144\u001b[0m \u001b[38;5;28mself\u001b[39m\u001b[38;5;241m.\u001b[39m_logger_connector\u001b[38;5;241m.\u001b[39mreset_metrics()\n\u001b[0;32m   1146\u001b[0m \u001b[38;5;66;03m# strategy will configure model and move it to the device\u001b[39;00m\n\u001b[1;32m-> 1147\u001b[0m \u001b[38;5;28;43mself\u001b[39;49m\u001b[38;5;241;43m.\u001b[39;49m\u001b[43mstrategy\u001b[49m\u001b[38;5;241;43m.\u001b[39;49m\u001b[43msetup\u001b[49m\u001b[43m(\u001b[49m\u001b[38;5;28;43mself\u001b[39;49m\u001b[43m)\u001b[49m\n\u001b[0;32m   1149\u001b[0m \u001b[38;5;66;03m# hook\u001b[39;00m\n\u001b[0;32m   1150\u001b[0m \u001b[38;5;28;01mif\u001b[39;00m \u001b[38;5;28mself\u001b[39m\u001b[38;5;241m.\u001b[39mstate\u001b[38;5;241m.\u001b[39mfn \u001b[38;5;241m==\u001b[39m TrainerFn\u001b[38;5;241m.\u001b[39mFITTING:\n",
      "File \u001b[1;32m~\\anaconda3\\envs\\mt\\lib\\site-packages\\pytorch_lightning\\strategies\\single_device.py:74\u001b[0m, in \u001b[0;36mSingleDeviceStrategy.setup\u001b[1;34m(self, trainer)\u001b[0m\n\u001b[0;32m     72\u001b[0m \u001b[38;5;28;01mdef\u001b[39;00m \u001b[38;5;21msetup\u001b[39m(\u001b[38;5;28mself\u001b[39m, trainer: pl\u001b[38;5;241m.\u001b[39mTrainer) \u001b[38;5;241m-\u001b[39m\u001b[38;5;241m>\u001b[39m \u001b[38;5;28;01mNone\u001b[39;00m:\n\u001b[0;32m     73\u001b[0m     \u001b[38;5;28mself\u001b[39m\u001b[38;5;241m.\u001b[39mmodel_to_device()\n\u001b[1;32m---> 74\u001b[0m     \u001b[38;5;28;43msuper\u001b[39;49m\u001b[43m(\u001b[49m\u001b[43m)\u001b[49m\u001b[38;5;241;43m.\u001b[39;49m\u001b[43msetup\u001b[49m\u001b[43m(\u001b[49m\u001b[43mtrainer\u001b[49m\u001b[43m)\u001b[49m\n",
      "File \u001b[1;32m~\\anaconda3\\envs\\mt\\lib\\site-packages\\pytorch_lightning\\strategies\\strategy.py:153\u001b[0m, in \u001b[0;36mStrategy.setup\u001b[1;34m(self, trainer)\u001b[0m\n\u001b[0;32m    151\u001b[0m \u001b[38;5;28;01massert\u001b[39;00m \u001b[38;5;28mself\u001b[39m\u001b[38;5;241m.\u001b[39maccelerator \u001b[38;5;129;01mis\u001b[39;00m \u001b[38;5;129;01mnot\u001b[39;00m \u001b[38;5;28;01mNone\u001b[39;00m\n\u001b[0;32m    152\u001b[0m \u001b[38;5;28mself\u001b[39m\u001b[38;5;241m.\u001b[39maccelerator\u001b[38;5;241m.\u001b[39msetup(trainer)\n\u001b[1;32m--> 153\u001b[0m \u001b[38;5;28;43mself\u001b[39;49m\u001b[38;5;241;43m.\u001b[39;49m\u001b[43msetup_optimizers\u001b[49m\u001b[43m(\u001b[49m\u001b[43mtrainer\u001b[49m\u001b[43m)\u001b[49m\n\u001b[0;32m    154\u001b[0m \u001b[38;5;28mself\u001b[39m\u001b[38;5;241m.\u001b[39msetup_precision_plugin()\n\u001b[0;32m    155\u001b[0m optimizers_to_device(\u001b[38;5;28mself\u001b[39m\u001b[38;5;241m.\u001b[39moptimizers, \u001b[38;5;28mself\u001b[39m\u001b[38;5;241m.\u001b[39mroot_device)\n",
      "File \u001b[1;32m~\\anaconda3\\envs\\mt\\lib\\site-packages\\pytorch_lightning\\strategies\\strategy.py:141\u001b[0m, in \u001b[0;36mStrategy.setup_optimizers\u001b[1;34m(self, trainer)\u001b[0m\n\u001b[0;32m    139\u001b[0m     \u001b[38;5;28;01mreturn\u001b[39;00m\n\u001b[0;32m    140\u001b[0m \u001b[38;5;28;01massert\u001b[39;00m \u001b[38;5;28mself\u001b[39m\u001b[38;5;241m.\u001b[39mlightning_module \u001b[38;5;129;01mis\u001b[39;00m \u001b[38;5;129;01mnot\u001b[39;00m \u001b[38;5;28;01mNone\u001b[39;00m\n\u001b[1;32m--> 141\u001b[0m \u001b[38;5;28mself\u001b[39m\u001b[38;5;241m.\u001b[39moptimizers, \u001b[38;5;28mself\u001b[39m\u001b[38;5;241m.\u001b[39mlr_scheduler_configs, \u001b[38;5;28mself\u001b[39m\u001b[38;5;241m.\u001b[39moptimizer_frequencies \u001b[38;5;241m=\u001b[39m \u001b[43m_init_optimizers_and_lr_schedulers\u001b[49m\u001b[43m(\u001b[49m\n\u001b[0;32m    142\u001b[0m \u001b[43m    \u001b[49m\u001b[38;5;28;43mself\u001b[39;49m\u001b[38;5;241;43m.\u001b[39;49m\u001b[43mlightning_module\u001b[49m\n\u001b[0;32m    143\u001b[0m \u001b[43m\u001b[49m\u001b[43m)\u001b[49m\n",
      "File \u001b[1;32m~\\anaconda3\\envs\\mt\\lib\\site-packages\\pytorch_lightning\\core\\optimizer.py:179\u001b[0m, in \u001b[0;36m_init_optimizers_and_lr_schedulers\u001b[1;34m(model)\u001b[0m\n\u001b[0;32m    175\u001b[0m \u001b[38;5;28;01mdef\u001b[39;00m \u001b[38;5;21m_init_optimizers_and_lr_schedulers\u001b[39m(\n\u001b[0;32m    176\u001b[0m     model: \u001b[38;5;124m\"\u001b[39m\u001b[38;5;124mpl.LightningModule\u001b[39m\u001b[38;5;124m\"\u001b[39m,\n\u001b[0;32m    177\u001b[0m ) \u001b[38;5;241m-\u001b[39m\u001b[38;5;241m>\u001b[39m Tuple[List[Optimizer], List[LRSchedulerConfig], List[\u001b[38;5;28mint\u001b[39m]]:\n\u001b[0;32m    178\u001b[0m     \u001b[38;5;124;03m\"\"\"Calls `LightningModule.configure_optimizers` and parses and validates the output.\"\"\"\u001b[39;00m\n\u001b[1;32m--> 179\u001b[0m     optim_conf \u001b[38;5;241m=\u001b[39m \u001b[43mmodel\u001b[49m\u001b[38;5;241;43m.\u001b[39;49m\u001b[43mtrainer\u001b[49m\u001b[38;5;241;43m.\u001b[39;49m\u001b[43m_call_lightning_module_hook\u001b[49m\u001b[43m(\u001b[49m\u001b[38;5;124;43m\"\u001b[39;49m\u001b[38;5;124;43mconfigure_optimizers\u001b[39;49m\u001b[38;5;124;43m\"\u001b[39;49m\u001b[43m,\u001b[49m\u001b[43m \u001b[49m\u001b[43mpl_module\u001b[49m\u001b[38;5;241;43m=\u001b[39;49m\u001b[43mmodel\u001b[49m\u001b[43m)\u001b[49m\n\u001b[0;32m    181\u001b[0m     \u001b[38;5;28;01mif\u001b[39;00m optim_conf \u001b[38;5;129;01mis\u001b[39;00m \u001b[38;5;28;01mNone\u001b[39;00m:\n\u001b[0;32m    182\u001b[0m         rank_zero_warn(\n\u001b[0;32m    183\u001b[0m             \u001b[38;5;124m\"\u001b[39m\u001b[38;5;124m`LightningModule.configure_optimizers` returned `None`, this fit will run with no optimizer\u001b[39m\u001b[38;5;124m\"\u001b[39m,\n\u001b[0;32m    184\u001b[0m         )\n",
      "File \u001b[1;32m~\\anaconda3\\envs\\mt\\lib\\site-packages\\pytorch_lightning\\trainer\\trainer.py:1550\u001b[0m, in \u001b[0;36mTrainer._call_lightning_module_hook\u001b[1;34m(self, hook_name, pl_module, *args, **kwargs)\u001b[0m\n\u001b[0;32m   1547\u001b[0m pl_module\u001b[38;5;241m.\u001b[39m_current_fx_name \u001b[38;5;241m=\u001b[39m hook_name\n\u001b[0;32m   1549\u001b[0m \u001b[38;5;28;01mwith\u001b[39;00m \u001b[38;5;28mself\u001b[39m\u001b[38;5;241m.\u001b[39mprofiler\u001b[38;5;241m.\u001b[39mprofile(\u001b[38;5;124mf\u001b[39m\u001b[38;5;124m\"\u001b[39m\u001b[38;5;124m[LightningModule]\u001b[39m\u001b[38;5;132;01m{\u001b[39;00mpl_module\u001b[38;5;241m.\u001b[39m\u001b[38;5;18m__class__\u001b[39m\u001b[38;5;241m.\u001b[39m\u001b[38;5;18m__name__\u001b[39m\u001b[38;5;132;01m}\u001b[39;00m\u001b[38;5;124m.\u001b[39m\u001b[38;5;132;01m{\u001b[39;00mhook_name\u001b[38;5;132;01m}\u001b[39;00m\u001b[38;5;124m\"\u001b[39m):\n\u001b[1;32m-> 1550\u001b[0m     output \u001b[38;5;241m=\u001b[39m fn(\u001b[38;5;241m*\u001b[39margs, \u001b[38;5;241m*\u001b[39m\u001b[38;5;241m*\u001b[39mkwargs)\n\u001b[0;32m   1552\u001b[0m \u001b[38;5;66;03m# restore current_fx when nested context\u001b[39;00m\n\u001b[0;32m   1553\u001b[0m pl_module\u001b[38;5;241m.\u001b[39m_current_fx_name \u001b[38;5;241m=\u001b[39m prev_fx_name\n",
      "File \u001b[1;32m~\\Google Drive\\low-resource-machine-translation\\experiments\\../src\\transformer.py:144\u001b[0m, in \u001b[0;36mTransformer.configure_optimizers\u001b[1;34m(self)\u001b[0m\n\u001b[0;32m    135\u001b[0m optimizer \u001b[38;5;241m=\u001b[39m torch\u001b[38;5;241m.\u001b[39moptim\u001b[38;5;241m.\u001b[39mAdam(\u001b[38;5;28mself\u001b[39m\u001b[38;5;241m.\u001b[39mparameters(),\n\u001b[0;32m    136\u001b[0m     lr\u001b[38;5;241m=\u001b[39m\u001b[38;5;28mself\u001b[39m\u001b[38;5;241m.\u001b[39mlearning_rate,\n\u001b[0;32m    137\u001b[0m     betas\u001b[38;5;241m=\u001b[39m(\u001b[38;5;241m0.9\u001b[39m, \u001b[38;5;241m0.98\u001b[39m),\n\u001b[0;32m    138\u001b[0m     eps\u001b[38;5;241m=\u001b[39m\u001b[38;5;241m1e-9\u001b[39m,\n\u001b[0;32m    139\u001b[0m     weight_decay\u001b[38;5;241m=\u001b[39m\u001b[38;5;28mself\u001b[39m\u001b[38;5;241m.\u001b[39mweight_decay\n\u001b[0;32m    140\u001b[0m )\n\u001b[0;32m    142\u001b[0m \u001b[38;5;28;01mif\u001b[39;00m \u001b[38;5;28mself\u001b[39m\u001b[38;5;241m.\u001b[39menable_scheduling:\n\u001b[0;32m    143\u001b[0m     scheduler \u001b[38;5;241m=\u001b[39m {\n\u001b[1;32m--> 144\u001b[0m         \u001b[38;5;124m'\u001b[39m\u001b[38;5;124mscheduler\u001b[39m\u001b[38;5;124m'\u001b[39m: \u001b[43mWarumUpInverseSquareRootScheduler\u001b[49m\u001b[43m(\u001b[49m\u001b[43moptimizer\u001b[49m\u001b[43m,\u001b[49m\u001b[43m \u001b[49m\u001b[38;5;28;43mself\u001b[39;49m\u001b[38;5;241;43m.\u001b[39;49m\u001b[43md_model\u001b[49m\u001b[43m,\u001b[49m\u001b[43m \u001b[49m\u001b[38;5;28;43mself\u001b[39;49m\u001b[38;5;241;43m.\u001b[39;49m\u001b[43mwarm_up_steps\u001b[49m\u001b[43m)\u001b[49m,\n\u001b[0;32m    145\u001b[0m         \u001b[38;5;124m'\u001b[39m\u001b[38;5;124minterval\u001b[39m\u001b[38;5;124m'\u001b[39m: \u001b[38;5;124m'\u001b[39m\u001b[38;5;124mstep\u001b[39m\u001b[38;5;124m'\u001b[39m,\n\u001b[0;32m    146\u001b[0m         \u001b[38;5;124m'\u001b[39m\u001b[38;5;124mfrequency\u001b[39m\u001b[38;5;124m'\u001b[39m: \u001b[38;5;241m1\u001b[39m\n\u001b[0;32m    147\u001b[0m     }\n\u001b[0;32m    148\u001b[0m     \u001b[38;5;28;01mreturn\u001b[39;00m [optimizer], [scheduler]\n\u001b[0;32m    149\u001b[0m \u001b[38;5;28;01melse\u001b[39;00m:\n",
      "File \u001b[1;32m~\\Google Drive\\low-resource-machine-translation\\experiments\\../src\\schedulers.py:15\u001b[0m, in \u001b[0;36mWarumUpInverseSquareRootScheduler.__init__\u001b[1;34m(self, optimizer, d_model, warm_up_steps, factor, verbose)\u001b[0m\n\u001b[0;32m     13\u001b[0m \u001b[38;5;28mself\u001b[39m\u001b[38;5;241m.\u001b[39mwarm_up_steps \u001b[38;5;241m=\u001b[39m warm_up_steps\n\u001b[0;32m     14\u001b[0m \u001b[38;5;28mself\u001b[39m\u001b[38;5;241m.\u001b[39mfactor \u001b[38;5;241m=\u001b[39m factor\n\u001b[1;32m---> 15\u001b[0m \u001b[38;5;28;43msuper\u001b[39;49m\u001b[43m(\u001b[49m\u001b[43mWarumUpInverseSquareRootScheduler\u001b[49m\u001b[43m,\u001b[49m\u001b[43m \u001b[49m\u001b[38;5;28;43mself\u001b[39;49m\u001b[43m)\u001b[49m\u001b[38;5;241m.\u001b[39m\u001b[38;5;21m__init__\u001b[39m(optimizer, verbose\u001b[38;5;241m=\u001b[39mverbose)\n",
      "\u001b[1;31mTypeError\u001b[0m: super(type, obj): obj must be an instance or subtype of type"
     ]
    }
   ],
   "source": [
    "# Training.\n",
    "trainer.fit(model,\n",
    "            train_dataloaders=train_dataloader,\n",
    "            val_dataloaders=val_dataloader,\n",
    "            ckpt_path=args.ckpt_path)"
   ]
  },
  {
   "cell_type": "code",
   "execution_count": null,
   "id": "523307ae",
   "metadata": {
    "id": "523307ae"
   },
   "outputs": [],
   "source": [
    "# Save model.\n",
    "if args.enable_checkpointing:\n",
    "    model.load_from_checkpoint(model_checkpoint.best_model_path)\n",
    "\n",
    "model.save(pm.baseline.model_file)"
   ]
  },
  {
   "cell_type": "markdown",
   "id": "c_TH_oUw5J07",
   "metadata": {
    "id": "c_TH_oUw5J07"
   },
   "source": [
    "### Testing"
   ]
  },
  {
   "cell_type": "code",
   "execution_count": 31,
   "id": "30b198e8",
   "metadata": {
    "id": "30b198e8"
   },
   "outputs": [
    {
     "name": "stderr",
     "output_type": "stream",
     "text": [
      "C:\\Users\\Valkyrias\\anaconda3\\envs\\mt\\lib\\site-packages\\pytorch_lightning\\trainer\\connectors\\data_connector.py:236: PossibleUserWarning: The dataloader, test_dataloader 0, does not have many workers which may be a bottleneck. Consider increasing the value of the `num_workers` argument` (try 8 which is the number of cpus on this machine) in the `DataLoader` init to improve performance.\n",
      "  rank_zero_warn(\n"
     ]
    },
    {
     "data": {
      "application/vnd.jupyter.widget-view+json": {
       "model_id": "b8744b592f88412387e314a9d15ca444",
       "version_major": 2,
       "version_minor": 0
      },
      "text/plain": [
       "Testing: 0it [00:00, ?it/s]"
      ]
     },
     "metadata": {},
     "output_type": "display_data"
    },
    {
     "name": "stdout",
     "output_type": "stream",
     "text": [
      "────────────────────────────────────────────────────────────────────────────────────────────────────────────────────────\r\n",
      "       Test metric             DataLoader 0\r\n",
      "────────────────────────────────────────────────────────────────────────────────────────────────────────────────────────\r\n",
      "     test_bleu_epoch                0.0\r\n",
      "     test_loss_epoch         46.61362838745117\r\n",
      "────────────────────────────────────────────────────────────────────────────────────────────────────────────────────────\n"
     ]
    }
   ],
   "source": [
    "# Testing.\n",
    "test_metrics = trainer.test(model, dataloaders=test_dataloader)"
   ]
  },
  {
   "cell_type": "markdown",
   "id": "DIwsznuh5LYp",
   "metadata": {
    "id": "DIwsznuh5LYp"
   },
   "source": [
    "## Exporting Results"
   ]
  },
  {
   "cell_type": "code",
   "execution_count": 32,
   "id": "Db8S-unQ2wF_",
   "metadata": {
    "id": "Db8S-unQ2wF_"
   },
   "outputs": [],
   "source": [
    "# Save recorded metrics.\n",
    "metric_logger.manual_save(pm.baseline.metrics_dir, pm.baseline.metrics_file)"
   ]
  },
  {
   "cell_type": "code",
   "execution_count": 33,
   "id": "3adf0a0c",
   "metadata": {
    "id": "3adf0a0c"
   },
   "outputs": [
    {
     "data": {
      "image/png": "[encoded data removed]",
      "text/plain": [
       "<Figure size 640x480 with 1 Axes>"
      ]
     },
     "metadata": {},
     "output_type": "display_data"
    },
    {
     "data": {
      "image/png": "[encoded data removed]",
      "text/plain": [
       "<Figure size 640x480 with 1 Axes>"
      ]
     },
     "metadata": {},
     "output_type": "display_data"
    }
   ],
   "source": [
    "# Save metric plots.\n",
    "for metric in model.tracked_metrics:\n",
    "    plot_metric(metric_logger.metrics, metric,\n",
    "                save_path=pm.baseline.metrics_svg_template.format(metric))"
   ]
  },
  {
   "cell_type": "code",
   "execution_count": null,
   "id": "UFYIOhZka_v3",
   "metadata": {
    "id": "UFYIOhZka_v3"
   },
   "outputs": [],
   "source": []
  }
 ],
 "metadata": {
  "colab": {
   "collapsed_sections": [],
   "private_outputs": true,
   "provenance": [],
   "toc_visible": true
  },
  "kernelspec": {
   "display_name": "Python 3",
   "language": "python",
   "name": "python3"
  },
  "language_info": {
   "codemirror_mode": {
    "name": "ipython",
    "version": 3
   },
   "file_extension": ".py",
   "mimetype": "text/x-python",
   "name": "python",
   "nbconvert_exporter": "python",
   "pygments_lexer": "ipython3",
   "version": "3.10.4"
  },
  "vscode": {
   "interpreter": {
    "hash": "e16c6ae93e97f8b72f7c60789e33aa05f059bdee2efc0781f4556fc1fbea3a2d"
   }
  }
 },
 "nbformat": 4,
 "nbformat_minor": 5
}
