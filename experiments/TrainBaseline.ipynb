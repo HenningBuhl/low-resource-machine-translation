{
 "cells": [
  {
   "cell_type": "code",
   "execution_count": null,
   "id": "58da323c",
   "metadata": {},
   "outputs": [],
   "source": [
    "# Add src module directory to system path for subsecuent imports.\n",
    "import os\n",
    "import sys\n",
    "sys.path.insert(0, '../src')"
   ]
  },
  {
   "cell_type": "code",
   "execution_count": null,
   "id": "844423ca",
   "metadata": {},
   "outputs": [],
   "source": [
    "from util import is_notebook\n",
    "\n",
    "# Settings (only in Jupyter Notebooks).\n",
    "if is_notebook():\n",
    "    # Module reloading.\n",
    "    %load_ext autoreload\n",
    "    # aimport?\n",
    "    %autoreload 2\n",
    "    # Plot settings.\n",
    "    %matplotlib inline"
   ]
  },
  {
   "cell_type": "code",
   "execution_count": null,
   "id": "060a4467",
   "metadata": {},
   "outputs": [],
   "source": [
    "# Imports.\n",
    "import pytorch_lightning as pl\n",
    "from pytorch_lightning import Trainer\n",
    "from torch.utils.data import DataLoader\n",
    "from datasets import load_metric\n",
    "\n",
    "from constants import *\n",
    "from util import *\n",
    "from transformer import Transformer\n",
    "from tokenizer import load_tokenizer\n",
    "from data import download_data, load_data\n",
    "from plotting import plot_metric\n",
    "from metric_logging import MetricLogger"
   ]
  },
  {
   "cell_type": "code",
   "execution_count": null,
   "id": "fa8e7b47",
   "metadata": {},
   "outputs": [],
   "source": [
    "# Set seed.\n",
    "from pytorch_lightning import seed_everything\n",
    "seed_everything(0, workers=True)"
   ]
  },
  {
   "cell_type": "code",
   "execution_count": null,
   "id": "0283783c",
   "metadata": {},
   "outputs": [],
   "source": [
    "# Experiment paramereters.\n",
    "hparams = dotdict({\n",
    "    'src_lang': 'de',\n",
    "    'tgt_lang': 'en',\n",
    "    'batch_size': 80,\n",
    "    'max_epochs': 10,\n",
    "    'max_examples': -1,\n",
    "    'gpus': 1,\n",
    "    'num_workers': 4,\n",
    "    'ckpt_path': None,\n",
    "})\n",
    "\n",
    "print('Experiment paramereters:')\n",
    "print(hparams)"
   ]
  },
  {
   "cell_type": "code",
   "execution_count": null,
   "id": "428bec54",
   "metadata": {},
   "outputs": [],
   "source": [
    "# Constant directories.\n",
    "data_dir = os.path.join('./', 'data')\n",
    "tokenizers_dir = os.path.join('./', 'tokenizers')\n",
    "runs_dir = os.path.join('./', 'runs')\n",
    "\n",
    "# Experiment directories.\n",
    "run_dir = os.path.join(runs_dir, f'baseline-{hparams.src_lang}-{hparams.tgt_lang}-{get_time_as_string()}')\n",
    "model_checkpoints_dir = os.path.join(run_dir, 'checkpoints')\n",
    "results_dir = os.path.join(run_dir, 'results')\n",
    "\n",
    "dirs = [data_dir, tokenizers_dir, runs_dir, run_dir, model_checkpoints_dir, results_dir]\n",
    "for dir in dirs:\n",
    "    create_dir(dir)\n",
    "\n",
    "print('Created directories.')"
   ]
  },
  {
   "cell_type": "code",
   "execution_count": null,
   "id": "d4338e51",
   "metadata": {},
   "outputs": [],
   "source": [
    "# Load Metrics.\n",
    "score_metric = load_metric('sacrebleu')\n",
    "\n",
    "print('Loaded metrics.')"
   ]
  },
  {
   "cell_type": "code",
   "execution_count": null,
   "id": "45291393",
   "metadata": {},
   "outputs": [],
   "source": [
    "# Download data.\n",
    "download_data(hparams.src_lang, hparams.tgt_lang)"
   ]
  },
  {
   "cell_type": "code",
   "execution_count": null,
   "id": "4c7548a1",
   "metadata": {},
   "outputs": [],
   "source": [
    "# Load tokenizers.\n",
    "src_tokenizer = load_tokenizer(hparams.src_lang, hparams.tgt_lang)\n",
    "tgt_tokenizer = load_tokenizer(hparams.tgt_lang, hparams.src_lang)\n",
    "\n",
    "print('Loaded tokenizers.')"
   ]
  },
  {
   "cell_type": "code",
   "execution_count": null,
   "id": "5faa63ee",
   "metadata": {},
   "outputs": [],
   "source": [
    "# Load data.\n",
    "train_dataset, val_dataset, test_dataset = load_data(hparams.src_lang,\n",
    "                                                     hparams.tgt_lang,\n",
    "                                                     src_tokenizer,\n",
    "                                                     tgt_tokenizer,\n",
    "                                                     hparams.max_examples)\n",
    "\n",
    "print(f'Preprocessed data ({hparams.src_lang}-{hparams.tgt_lang})')\n",
    "print(f'\\tTraining data:   {len(train_dataset)}')\n",
    "print(f'\\tValidation data: {len(val_dataset)}')\n",
    "print(f'\\tTest data:       {len(test_dataset)}')"
   ]
  },
  {
   "cell_type": "code",
   "execution_count": null,
   "id": "387775ed",
   "metadata": {},
   "outputs": [],
   "source": [
    "# Create data loaders.\n",
    "train_dataloader = DataLoader(train_dataset, batch_size=hparams.batch_size, num_workers=hparams.num_workers)\n",
    "val_dataloader = DataLoader(val_dataset, batch_size=hparams.batch_size, num_workers=hparams.num_workers)\n",
    "test_dataloader = DataLoader(test_dataset, batch_size=hparams.batch_size, num_workers=hparams.num_workers)\n",
    "\n",
    "print('Created data loaders.')"
   ]
  },
  {
   "cell_type": "code",
   "execution_count": null,
   "id": "24da631a",
   "metadata": {},
   "outputs": [],
   "source": [
    "# Create model.\n",
    "model = Transformer(src_tokenizer,\n",
    "                    tgt_tokenizer,\n",
    "                    score_metric=score_metric)\n",
    "\n",
    "print('Created model.')"
   ]
  },
  {
   "cell_type": "code",
   "execution_count": null,
   "id": "6eceaec8",
   "metadata": {},
   "outputs": [],
   "source": [
    "# Create trainer.\n",
    "metric_logger = MetricLogger()\n",
    "checkpoint_callback = pl.callbacks.ModelCheckpoint(\n",
    "          dirpath=model_checkpoints_dir,\n",
    "          verbose=True,\n",
    "          save_last=True\n",
    "      )\n",
    "\n",
    "trainer = Trainer(deterministic=True,\n",
    "                  fast_dev_run=False,\n",
    "                  max_epochs=hparams.max_epochs,\n",
    "                  logger=metric_logger,\n",
    "                  log_every_n_steps=1,\n",
    "                  enable_checkpointing=True,\n",
    "                  default_root_dir=model_checkpoints_dir,\n",
    "                  callbacks=[checkpoint_callback],\n",
    "                  gpus=hparams.gpus if str(device) == 'cuda' else 0)\n",
    "\n",
    "print('Created trainer.')"
   ]
  },
  {
   "cell_type": "code",
   "execution_count": null,
   "id": "9b270ae5",
   "metadata": {
    "scrolled": false
   },
   "outputs": [],
   "source": [
    "# Training.\n",
    "trainer.fit(model,\n",
    "            train_dataloaders=train_dataloader,\n",
    "            val_dataloaders=val_dataloader,\n",
    "            ckpt_path=hparams.ckpt_path)"
   ]
  },
  {
   "cell_type": "code",
   "execution_count": null,
   "id": "523307ae",
   "metadata": {},
   "outputs": [],
   "source": [
    "# Save model.\n",
    "model_path = os.path.join(run_dir, 'model.pt')\n",
    "torch.save(model.state_dict(), model_path)"
   ]
  },
  {
   "cell_type": "code",
   "execution_count": null,
   "id": "30b198e8",
   "metadata": {},
   "outputs": [],
   "source": [
    "# Testing.\n",
    "test_metrics = trainer.test(model, dataloaders=test_dataloader)\n",
    "print(test_metrics)"
   ]
  },
  {
   "cell_type": "code",
   "execution_count": null,
   "id": "3adf0a0c",
   "metadata": {},
   "outputs": [],
   "source": [
    "# Plot loss metrics.\n",
    "save_path = os.path.join(results_dir, 'loss.svg')\n",
    "plot_metric(metric_logger.metrics, 'loss', 'Loss', save_path=save_path)"
   ]
  },
  {
   "cell_type": "code",
   "execution_count": null,
   "id": "1a804815",
   "metadata": {},
   "outputs": [],
   "source": [
    "# Plot score metric.\n",
    "save_path = os.path.join(results_dir, 'score.svg')\n",
    "plot_metric(metric_logger.metrics, 'score', 'Score', save_path=save_path)"
   ]
  },
  {
   "cell_type": "code",
   "execution_count": null,
   "id": "fed20c50",
   "metadata": {},
   "outputs": [],
   "source": [
    "# Save hyper parameters.\n",
    "save_dict(run_dir, hparams, 'hparams')"
   ]
  },
  {
   "cell_type": "code",
   "execution_count": null,
   "id": "8c439860",
   "metadata": {},
   "outputs": [],
   "source": [
    "# Save recorded metrics.\n",
    "metric_logger.manual_save(results_dir)"
   ]
  },
  {
   "cell_type": "code",
   "execution_count": null,
   "id": "37cef9f8",
   "metadata": {},
   "outputs": [],
   "source": []
  }
 ],
 "metadata": {
  "kernelspec": {
   "display_name": "Python 3 (ipykernel)",
   "language": "python",
   "name": "python3"
  },
  "language_info": {
   "codemirror_mode": {
    "name": "ipython",
    "version": 3
   },
   "file_extension": ".py",
   "mimetype": "text/x-python",
   "name": "python",
   "nbconvert_exporter": "python",
   "pygments_lexer": "ipython3",
   "version": "3.10.4"
  }
 },
 "nbformat": 4,
 "nbformat_minor": 5
}
