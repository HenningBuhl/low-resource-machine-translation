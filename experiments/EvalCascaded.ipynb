{
 "cells": [
  {
   "cell_type": "code",
   "execution_count": 1,
   "id": "e219183d",
   "metadata": {},
   "outputs": [],
   "source": [
    "# Add src module directory to system path for subsecuent imports.\n",
    "import os\n",
    "import sys\n",
    "sys.path.insert(0, '../src')"
   ]
  },
  {
   "cell_type": "code",
   "execution_count": 2,
   "id": "aa380261",
   "metadata": {},
   "outputs": [],
   "source": [
    "from util import is_notebook\n",
    "\n",
    "# Settings (only in Jupyter Notebooks).\n",
    "if is_notebook():\n",
    "    # Module reloading.\n",
    "    %load_ext autoreload\n",
    "    # aimport?\n",
    "    %autoreload 2\n",
    "    # Plot settings.\n",
    "    %matplotlib inline"
   ]
  },
  {
   "cell_type": "code",
   "execution_count": 3,
   "id": "843ca766",
   "metadata": {},
   "outputs": [],
   "source": [
    "# Imports.\n",
    "import pytorch_lightning as pl\n",
    "from pytorch_lightning import Trainer\n",
    "from torch.utils.data import DataLoader\n",
    "from datasets import load_metric\n",
    "\n",
    "from constants import *\n",
    "from util import *\n",
    "from transformer import Transformer, cascaded_inference\n",
    "from tokenizer import load_tokenizer\n",
    "from data import download_data, load_data\n",
    "from plotting import plot_metric\n",
    "from metric_logging import MetricLogger"
   ]
  },
  {
   "cell_type": "code",
   "execution_count": 4,
   "id": "4cb963cf",
   "metadata": {},
   "outputs": [
    {
     "name": "stderr",
     "output_type": "stream",
     "text": [
      "Global seed set to 0\n"
     ]
    },
    {
     "data": {
      "text/plain": [
       "0"
      ]
     },
     "execution_count": 4,
     "metadata": {},
     "output_type": "execute_result"
    }
   ],
   "source": [
    "# Set seed.\n",
    "from pytorch_lightning import seed_everything\n",
    "seed_everything(0, workers=True)"
   ]
  },
  {
   "cell_type": "code",
   "execution_count": 5,
   "id": "602b6bab",
   "metadata": {},
   "outputs": [
    {
     "name": "stdout",
     "output_type": "stream",
     "text": [
      "Experiment paramereters:\n",
      "{'src_lang': 'de', 'pvt_lang': 'nl', 'tgt_lang': 'en', 'src_pvt_model_path': 'models/baseline-de-nl.pt', 'pvt_tgt_model_path': 'models/baseline-nl-en.pt', 'batch_size': 80, 'max_epochs': 10, 'max_examples': -1, 'gpus': 1, 'num_workers': 4, 'ckpt_path': None}\n"
     ]
    }
   ],
   "source": [
    "# Experiment paramereters.\n",
    "hparams = dotdict({\n",
    "    'src_lang': 'de',\n",
    "    'pvt_lang': 'nl',\n",
    "    'tgt_lang': 'en',\n",
    "    'src_pvt_model_path': 'models/baseline-de-nl.pt',\n",
    "    'pvt_tgt_model_path': 'models/baseline-nl-en.pt',\n",
    "    'batch_size': 80,\n",
    "    'max_epochs': 10,\n",
    "    'max_examples': -1,\n",
    "    'gpus': 1,\n",
    "    'num_workers': 4,\n",
    "    'ckpt_path': None,\n",
    "})\n",
    "\n",
    "print('Experiment paramereters:')\n",
    "print(hparams)"
   ]
  },
  {
   "cell_type": "code",
   "execution_count": 6,
   "id": "77661284",
   "metadata": {},
   "outputs": [
    {
     "name": "stdout",
     "output_type": "stream",
     "text": [
      "Dir \"./data\" already exists.\n",
      "Dir \"./tokenizers\" already exists.\n",
      "Dir \"./runs\" already exists.\n",
      "Dir \"./runs\\cascaded-de-nl-en-2022.08.27-16.55.31\" does not exist, creating it.\n",
      "Dir \"./runs\\cascaded-de-nl-en-2022.08.27-16.55.31\\results\" does not exist, creating it.\n",
      "Created directories.\n"
     ]
    }
   ],
   "source": [
    "# Constant directories.\n",
    "data_dir = os.path.join('./', 'data')\n",
    "tokenizers_dir = os.path.join('./', 'tokenizers')\n",
    "runs_dir = os.path.join('./', 'runs')\n",
    "\n",
    "# Experiment directories.\n",
    "run_dir = os.path.join(runs_dir, f'cascaded-{hparams.src_lang}-{hparams.pvt_lang}-{hparams.tgt_lang}-{get_time_as_string()}')\n",
    "results_dir = os.path.join(run_dir, 'results')\n",
    "\n",
    "dirs = [data_dir, tokenizers_dir, runs_dir, run_dir, results_dir]\n",
    "for dir in dirs:\n",
    "    create_dir(dir)\n",
    "\n",
    "print('Created directories.')"
   ]
  },
  {
   "cell_type": "code",
   "execution_count": 7,
   "id": "53c5a6e3",
   "metadata": {},
   "outputs": [
    {
     "name": "stdout",
     "output_type": "stream",
     "text": [
      "Loaded metrics.\n"
     ]
    }
   ],
   "source": [
    "# Load Metrics.\n",
    "score_metric = load_metric('sacrebleu')\n",
    "\n",
    "print('Loaded metrics.')"
   ]
  },
  {
   "cell_type": "code",
   "execution_count": 8,
   "id": "20e5b115",
   "metadata": {},
   "outputs": [
    {
     "name": "stdout",
     "output_type": "stream",
     "text": [
      "File \"data\\de-en.zip\" already exists. Skipping download.\n",
      "Directory data\\de-en already exists. Skipping unzipping.\n"
     ]
    }
   ],
   "source": [
    "# Download data.\n",
    "download_data(hparams.src_lang, hparams.tgt_lang)"
   ]
  },
  {
   "cell_type": "code",
   "execution_count": 9,
   "id": "30cfd268",
   "metadata": {},
   "outputs": [
    {
     "name": "stdout",
     "output_type": "stream",
     "text": [
      "Tokenizer exists. Skipping training.\n",
      "Tokenizer exists. Skipping training.\n",
      "Tokenizer exists. Skipping training.\n",
      "Loaded tokenizers.\n"
     ]
    }
   ],
   "source": [
    "# Load tokenizers.\n",
    "src_tokenizer = load_tokenizer(hparams.src_lang, hparams.tgt_lang)\n",
    "pvt_tokenizer = load_tokenizer(hparams.src_lang, hparams.tgt_lang)\n",
    "tgt_tokenizer = load_tokenizer(hparams.tgt_lang, hparams.src_lang)\n",
    "\n",
    "print('Loaded tokenizers.')"
   ]
  },
  {
   "cell_type": "code",
   "execution_count": 10,
   "id": "b5d5b5cf",
   "metadata": {},
   "outputs": [
    {
     "name": "stdout",
     "output_type": "stream",
     "text": [
      "Preprocessed data exists, loading from disk...\n",
      "Splitting de-en data...\n",
      "Data (de-en) split.\n",
      "Preprocessed data (de-en)\n",
      "\tTraining data:   1416094\n",
      "\tValidation data: 78671\n",
      "\tTest data:       78671\n"
     ]
    }
   ],
   "source": [
    "# Load data.\n",
    "train_dataset, val_dataset, test_dataset = load_data(hparams.src_lang,\n",
    "                                                     hparams.tgt_lang,\n",
    "                                                     src_tokenizer,\n",
    "                                                     tgt_tokenizer,\n",
    "                                                     hparams.max_examples)\n",
    "\n",
    "print(f'Preprocessed data ({hparams.src_lang}-{hparams.tgt_lang})')\n",
    "print(f'\\tTraining data:   {len(train_dataset)}')\n",
    "print(f'\\tValidation data: {len(val_dataset)}')\n",
    "print(f'\\tTest data:       {len(test_dataset)}')"
   ]
  },
  {
   "cell_type": "code",
   "execution_count": 11,
   "id": "7e3318ad",
   "metadata": {},
   "outputs": [
    {
     "name": "stdout",
     "output_type": "stream",
     "text": [
      "Created data loaders.\n"
     ]
    }
   ],
   "source": [
    "# Create data loaders.\n",
    "train_dataloader = DataLoader(train_dataset, batch_size=hparams.batch_size, num_workers=hparams.num_workers)\n",
    "val_dataloader = DataLoader(val_dataset, batch_size=hparams.batch_size, num_workers=hparams.num_workers)\n",
    "test_dataloader = DataLoader(test_dataset, batch_size=1, num_workers=hparams.num_workers)\n",
    "\n",
    "print('Created data loaders.')"
   ]
  },
  {
   "cell_type": "code",
   "execution_count": 12,
   "id": "9fb021c1",
   "metadata": {},
   "outputs": [
    {
     "name": "stdout",
     "output_type": "stream",
     "text": [
      "Created models.\n"
     ]
    }
   ],
   "source": [
    "# Create models.\n",
    "src_pvt_model = Transformer(src_tokenizer,\n",
    "                            pvt_tokenizer,\n",
    "                            score_metric=score_metric)\n",
    "\n",
    "pvt_tgt_model = Transformer(pvt_tokenizer,\n",
    "                            tgt_tokenizer,\n",
    "                            score_metric=score_metric)\n",
    "\n",
    "print('Created models.')"
   ]
  },
  {
   "cell_type": "code",
   "execution_count": 13,
   "id": "6192cc78",
   "metadata": {
    "scrolled": false
   },
   "outputs": [
    {
     "name": "stdout",
     "output_type": "stream",
     "text": [
      "Loaded models.\n"
     ]
    }
   ],
   "source": [
    "# Load models.\n",
    "src_pvt_model.load_state_dict(torch.load(hparams.src_pvt_model_path))\n",
    "pvt_tgt_model.load_state_dict(torch.load(hparams.pvt_tgt_model_path))\n",
    "\n",
    "src_pvt_model.to(device)\n",
    "pvt_tgt_model.to(device)\n",
    "\n",
    "print('Loaded models.')"
   ]
  },
  {
   "cell_type": "code",
   "execution_count": null,
   "id": "bd839fe5",
   "metadata": {},
   "outputs": [
    {
     "name": "stdout",
     "output_type": "stream",
     "text": [
      "Score: 4.196114906296549\n",
      "Score: 8.276064952530392\n",
      "Score: 6.477300151702164\n",
      "Score: 25.29920735938594\n",
      "Score: 14.923729480049115\n",
      "Score: 6.567274736060395\n",
      "Score: 14.0332996877368\n",
      "Score: 17.64093567849862\n",
      "Score: 5.0912128230977505\n",
      "Score: 33.010083098515025\n",
      "Score: 14.6798691397542\n",
      "Score: 19.692104496063735\n",
      "Score: 13.059620291793733\n",
      "Score: 6.27465531099474\n",
      "Score: 27.846127764465503\n",
      "Score: 28.339296176052862\n",
      "Score: 6.68225620936445\n",
      "Score: 20.482706926412007\n",
      "Score: 17.395797375642243\n",
      "Score: 5.606668411195422\n",
      "Score: 13.534889927489722\n",
      "Score: 21.620380142073646\n",
      "Score: 30.426693999798907\n",
      "Score: 5.2956899456325806\n"
     ]
    }
   ],
   "source": [
    "# Testing.\n",
    "test_results = {'test_score_epoch': 0}\n",
    "\n",
    "for batch_idx, batch in enumerate(test_dataloader):\n",
    "    # Cascaded inference.\n",
    "    score, src_text, pvt_text, tgt_text, label_text = cascaded_inference(batch,\n",
    "                                                                         src_tokenizer, tgt_tokenizer,\n",
    "                                                                         src_pvt_model, pvt_tgt_model,\n",
    "                                                                         score_metric)\n",
    "    \n",
    "    # Accumulate metrics.\n",
    "    test_results['test_score_epoch'] += score\n",
    "    print(f'Score: {score}')\n",
    "test_results['test_score_epoch'] = [test_results['test_score_epoch'] / len(test_dataset)]"
   ]
  },
  {
   "cell_type": "code",
   "execution_count": null,
   "id": "9c5a3a12",
   "metadata": {},
   "outputs": [],
   "source": [
    "# Save hyper parameters.\n",
    "save_dict(run_dir, hparams, 'hparams')"
   ]
  },
  {
   "cell_type": "code",
   "execution_count": null,
   "id": "8b5e8e7e",
   "metadata": {},
   "outputs": [],
   "source": [
    "# Save test results.\n",
    "save_dict(results_dir, test_results, 'metrics')"
   ]
  },
  {
   "cell_type": "code",
   "execution_count": null,
   "id": "99a80348",
   "metadata": {},
   "outputs": [],
   "source": []
  }
 ],
 "metadata": {
  "kernelspec": {
   "display_name": "Python 3 (ipykernel)",
   "language": "python",
   "name": "python3"
  },
  "language_info": {
   "codemirror_mode": {
    "name": "ipython",
    "version": 3
   },
   "file_extension": ".py",
   "mimetype": "text/x-python",
   "name": "python",
   "nbconvert_exporter": "python",
   "pygments_lexer": "ipython3",
   "version": "3.10.4"
  }
 },
 "nbformat": 4,
 "nbformat_minor": 5
}
