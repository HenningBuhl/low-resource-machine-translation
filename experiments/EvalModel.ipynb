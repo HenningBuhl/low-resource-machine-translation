{
 "cells": [
  {
   "cell_type": "code",
   "execution_count": 1,
   "id": "58da323c",
   "metadata": {},
   "outputs": [],
   "source": [
    "# Add src module directory to system path for subsecuent imports.\n",
    "import os\n",
    "import sys\n",
    "sys.path.insert(0, '../src')"
   ]
  },
  {
   "cell_type": "code",
   "execution_count": 2,
   "id": "844423ca",
   "metadata": {},
   "outputs": [],
   "source": [
    "from util import is_notebook\n",
    "\n",
    "# Settings (only in Jupyter Notebooks).\n",
    "if is_notebook():\n",
    "    # Module reloading.\n",
    "    %load_ext autoreload\n",
    "    # aimport?\n",
    "    %autoreload 2\n",
    "    # Plot settings.\n",
    "    %matplotlib inline"
   ]
  },
  {
   "cell_type": "code",
   "execution_count": 3,
   "id": "060a4467",
   "metadata": {},
   "outputs": [],
   "source": [
    "# Imports.\n",
    "import pytorch_lightning as pl\n",
    "from pytorch_lightning import Trainer\n",
    "from torch.utils.data import DataLoader\n",
    "from datasets import load_metric\n",
    "\n",
    "from constants import *\n",
    "from util import *\n",
    "from transformer import Transformer\n",
    "from tokenizer import load_tokenizer\n",
    "from data import download_data, load_data\n",
    "from plotting import plot_metric\n",
    "from metric_logging import MetricLogger"
   ]
  },
  {
   "cell_type": "code",
   "execution_count": 4,
   "id": "fa8e7b47",
   "metadata": {},
   "outputs": [
    {
     "name": "stderr",
     "output_type": "stream",
     "text": [
      "Global seed set to 0\n"
     ]
    },
    {
     "data": {
      "text/plain": [
       "0"
      ]
     },
     "execution_count": 4,
     "metadata": {},
     "output_type": "execute_result"
    }
   ],
   "source": [
    "# Set seed.\n",
    "from pytorch_lightning import seed_everything\n",
    "seed_everything(0, workers=True)"
   ]
  },
  {
   "cell_type": "code",
   "execution_count": 6,
   "id": "0283783c",
   "metadata": {},
   "outputs": [],
   "source": [
    "# Experiment paramereters.\n",
    "hparams = dotdict({\n",
    "    'src_lang': 'de',\n",
    "    'tgt_lang': 'en',\n",
    "    'model_path': '',\n",
    "    'batch_size': 80,\n",
    "    'max_epochs': 10,\n",
    "    'max_examples': -1,\n",
    "    'gpus': 1,\n",
    "    'num_workers': 4,\n",
    "    'ckpt_path': None,\n",
    "})\n",
    "\n",
    "print('Experiment paramereters:')\n",
    "print(hparams)"
   ]
  },
  {
   "cell_type": "code",
   "execution_count": 8,
   "id": "428bec54",
   "metadata": {},
   "outputs": [
    {
     "name": "stdout",
     "output_type": "stream",
     "text": [
      "Dir \"./data\" already exists.\n",
      "Dir \"./runs\" already exists.\n",
      "Dir \"./runs\\eval-de-en-2022.08.09-11.28.26\" does not exist, creating it.\n",
      "Dir \"./runs\\eval-de-en-2022.08.09-11.28.26\\results\" does not exist, creating it.\n"
     ]
    }
   ],
   "source": [
    "# Constant directories.\n",
    "data_dir = os.path.join('./', 'data')\n",
    "tokenizers_dir = os.path.join('./', 'tokenizers')\n",
    "runs_dir = os.path.join('./', 'runs')\n",
    "\n",
    "# Experiment directories.\n",
    "run_dir = os.path.join(runs_dir, f'eval-{src_lang}-{tgt_lang}-{get_time_as_string()}')\n",
    "results_dir = os.path.join(run_dir, 'results')\n",
    "\n",
    "dirs = [data_dir, tokenizers_dir, runs_dir, run_dir, results_dir]\n",
    "for dir in dirs:\n",
    "    create_dir(dir)\n",
    "\n",
    "print('Created directories.')"
   ]
  },
  {
   "cell_type": "code",
   "execution_count": 9,
   "id": "d4338e51",
   "metadata": {},
   "outputs": [
    {
     "name": "stdout",
     "output_type": "stream",
     "text": [
      "Loaded metrics\n"
     ]
    }
   ],
   "source": [
    "# Load Metrics.\n",
    "score_metric = load_metric('sacrebleu')\n",
    "\n",
    "print('Loaded metrics.')"
   ]
  },
  {
   "cell_type": "code",
   "execution_count": 10,
   "id": "225615a4",
   "metadata": {},
   "outputs": [
    {
     "name": "stdout",
     "output_type": "stream",
     "text": [
      "Loaded tokenizers.\n"
     ]
    }
   ],
   "source": [
    "# Download data.\n",
    "download_data(hparams.src_lang, hparams.tgt_lang)"
   ]
  },
  {
   "cell_type": "code",
   "execution_count": 12,
   "id": "5faa63ee",
   "metadata": {},
   "outputs": [
    {
     "name": "stdout",
     "output_type": "stream",
     "text": [
      "Preprocessed data exists, loading from disk...\n",
      "Splitting de-en data...\n",
      "Data (de-en) proprocessed.\n",
      "Preprocessed data (de-en)\n",
      "\tTraining data:   441000\n",
      "\tValidation data: 4500\n",
      "\tTest data:       4500\n"
     ]
    }
   ],
   "source": [
    "# Load tokenizers.\n",
    "src_tokenizer = load_tokenizer(hparams.src_lang, hparams.tgt_lang)\n",
    "tgt_tokenizer = load_tokenizer(hparams.tgt_lang, hparams.src_lang)\n",
    "\n",
    "print('Loaded tokenizers.')"
   ]
  },
  {
   "cell_type": "code",
   "execution_count": null,
   "id": "4de6e859",
   "metadata": {},
   "outputs": [],
   "source": [
    "# Load data.\n",
    "train_dataset, val_dataset, test_dataset = load_data(hparams.src_lang,\n",
    "                                                     hparams.tgt_lang,\n",
    "                                                     src_tokenizer,\n",
    "                                                     tgt_tokenizer,\n",
    "                                                     hparams.max_examples)\n",
    "\n",
    "print(f'Preprocessed data ({hparams.src_lang}-{hparams.tgt_lang})')\n",
    "print(f'\\tTraining data:   {len(train_dataset)}')\n",
    "print(f'\\tValidation data: {len(val_dataset)}')\n",
    "print(f'\\tTest data:       {len(test_dataset)}')"
   ]
  },
  {
   "cell_type": "code",
   "execution_count": 13,
   "id": "387775ed",
   "metadata": {},
   "outputs": [
    {
     "name": "stdout",
     "output_type": "stream",
     "text": [
      "Created data loaders.\n"
     ]
    }
   ],
   "source": [
    "# Create data loaders.\n",
    "train_dataloader = DataLoader(train_dataset, batch_size=hparams.batch_size, num_workers=hparams.num_workers)\n",
    "val_dataloader = DataLoader(val_dataset, batch_size=hparams.batch_size, num_workers=hparams.num_workers)\n",
    "test_dataloader = DataLoader(test_dataset, batch_size=hparams.batch_size, num_workers=hparams.num_workers)\n",
    "\n",
    "print('Created data loaders.')"
   ]
  },
  {
   "cell_type": "code",
   "execution_count": 14,
   "id": "24da631a",
   "metadata": {},
   "outputs": [],
   "source": [
    "# Create model.\n",
    "model = LitSeq2SeqTransformer(hparams.lr,\n",
    "                                 hparams.num_encoder_layers,\n",
    "                                 hparams.num_decoder_layers,\n",
    "                                 hparams.emb_size,\n",
    "                                 hparams.n_head,\n",
    "                                 src_lang_tokenizer,\n",
    "                                 tgt_lang_tokenizer,\n",
    "                                 dim_feedforward = hparams.ffn_hid_dim,\n",
    "                                 tgt_lang_bos_token_id = tgt_lang_tokenizer.cls_token_id,\n",
    "                                 tgt_lang_bos_token = tgt_lang_tokenizer.cls_token,\n",
    "                                 tgt_lang_eos_token_id = tgt_lang_tokenizer.sep_token_id,\n",
    "                                 tgt_lang_eos_token = tgt_lang_tokenizer.sep_token,\n",
    "                                 score_metric = score_metric)"
   ]
  },
  {
   "cell_type": "code",
   "execution_count": null,
   "id": "c08e8542",
   "metadata": {},
   "outputs": [],
   "source": [
    "# Load models.\n",
    "model.load_state_dict(torch.load(hparams.model_path))\n",
    "\n",
    "model.to(device)\n",
    "\n",
    "print('Loaded model.')"
   ]
  },
  {
   "cell_type": "code",
   "execution_count": 18,
   "id": "6eceaec8",
   "metadata": {},
   "outputs": [
    {
     "name": "stderr",
     "output_type": "stream",
     "text": [
      "GPU available: False, used: False\n",
      "TPU available: False, using: 0 TPU cores\n",
      "IPU available: False, using: 0 IPUs\n",
      "HPU available: False, using: 0 HPUs\n"
     ]
    }
   ],
   "source": [
    "# Create trainer.\n",
    "metric_logger = MetricLogger()\n",
    "checkpoint_callback = pl.callbacks.ModelCheckpoint(\n",
    "          dirpath=model_checkpoints_dir,\n",
    "          verbose=True,\n",
    "          save_last=True\n",
    "      )\n",
    "\n",
    "trainer = Trainer(deterministic=True,\n",
    "                  fast_dev_run=False,\n",
    "                  max_epochs=hparams.max_epochs,\n",
    "                  logger=metric_logger,\n",
    "                  log_every_n_steps=1,\n",
    "                  enable_checkpointing=True,\n",
    "                  default_root_dir=model_checkpoints_dir,\n",
    "                  callbacks=[checkpoint_callback],\n",
    "                  gpus=hparams.gpus if str(device) == 'cuda' else 0)\n",
    "\n",
    "print('Created trainer.')"
   ]
  },
  {
   "cell_type": "code",
   "execution_count": 19,
   "id": "30b198e8",
   "metadata": {},
   "outputs": [
    {
     "data": {
      "application/vnd.jupyter.widget-view+json": {
       "model_id": "b06f8cc01fc344cd930585b3cefcf1da",
       "version_major": 2,
       "version_minor": 0
      },
      "text/plain": [
       "Testing: 0it [00:00, ?it/s]"
      ]
     },
     "metadata": {},
     "output_type": "display_data"
    },
    {
     "name": "stdout",
     "output_type": "stream",
     "text": [
      "────────────────────────────────────────────────────────────────────────────────────────────────────────────────────────\n",
      "       Test metric             DataLoader 0\n",
      "────────────────────────────────────────────────────────────────────────────────────────────────────────────────────────\n",
      "     test_loss_epoch        10.323444366455078\n",
      "    test_score_epoch      0.00020494360069278628\n",
      "────────────────────────────────────────────────────────────────────────────────────────────────────────────────────────\n",
      "[{'test_loss_epoch': 10.323444366455078, 'test_score_epoch': 0.00020494360069278628}]\n"
     ]
    }
   ],
   "source": [
    "# Testing.\n",
    "test_metrics = trainer.test(model, dataloaders=test_dataloader)\n",
    "print(test_metrics)"
   ]
  },
  {
   "cell_type": "code",
   "execution_count": 23,
   "id": "fed20c50",
   "metadata": {},
   "outputs": [],
   "source": [
    "# Save hyper parameters.\n",
    "save_dict(run_dir, hparams, 'hparams')"
   ]
  },
  {
   "cell_type": "code",
   "execution_count": 25,
   "id": "8c439860",
   "metadata": {},
   "outputs": [],
   "source": [
    "# Save recorded metrics.\n",
    "metric_logger.manual_save(results_dir)"
   ]
  },
  {
   "cell_type": "code",
   "execution_count": null,
   "id": "e4c3cc23",
   "metadata": {},
   "outputs": [],
   "source": []
  }
 ],
 "metadata": {
  "kernelspec": {
   "display_name": "Python 3 (ipykernel)",
   "language": "python",
   "name": "python3"
  },
  "language_info": {
   "codemirror_mode": {
    "name": "ipython",
    "version": 3
   },
   "file_extension": ".py",
   "mimetype": "text/x-python",
   "name": "python",
   "nbconvert_exporter": "python",
   "pygments_lexer": "ipython3",
   "version": "3.10.4"
  }
 },
 "nbformat": 4,
 "nbformat_minor": 5
}
