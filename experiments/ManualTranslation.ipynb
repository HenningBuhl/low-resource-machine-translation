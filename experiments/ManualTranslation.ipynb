{
 "cells": [
  {
   "cell_type": "code",
   "execution_count": 1,
   "id": "b44ddf33",
   "metadata": {},
   "outputs": [],
   "source": [
    "# Add src module directory to system path for subsecuent imports.\n",
    "import os\n",
    "import sys\n",
    "sys.path.insert(0, '../src')"
   ]
  },
  {
   "cell_type": "code",
   "execution_count": 2,
   "id": "5fb95a89",
   "metadata": {},
   "outputs": [],
   "source": [
    "from util import is_notebook\n",
    "\n",
    "# Settings (only in Jupyter Notebooks).\n",
    "if is_notebook():\n",
    "    # Module reloading.\n",
    "    %load_ext autoreload\n",
    "    # aimport?\n",
    "    %autoreload 2\n",
    "    # Plot settings.\n",
    "    %matplotlib inline"
   ]
  },
  {
   "cell_type": "code",
   "execution_count": 3,
   "id": "299ae2d7",
   "metadata": {},
   "outputs": [],
   "source": [
    "# Imports.\n",
    "import pytorch_lightning as pl\n",
    "from pytorch_lightning import Trainer\n",
    "from torch.utils.data import DataLoader\n",
    "from datasets import load_metric\n",
    "\n",
    "from constants import *\n",
    "from util import *\n",
    "from transformer import Transformer\n",
    "from tokenizer import load_tokenizer\n",
    "from data import download_data, load_data\n",
    "from plotting import plot_metric\n",
    "from metric_logging import MetricLogger"
   ]
  },
  {
   "cell_type": "code",
   "execution_count": 4,
   "id": "0a703183",
   "metadata": {},
   "outputs": [
    {
     "name": "stderr",
     "output_type": "stream",
     "text": [
      "Global seed set to 0\n"
     ]
    },
    {
     "data": {
      "text/plain": [
       "0"
      ]
     },
     "execution_count": 4,
     "metadata": {},
     "output_type": "execute_result"
    }
   ],
   "source": [
    "# Set seed.\n",
    "from pytorch_lightning import seed_everything\n",
    "seed_everything(0, workers=True)"
   ]
  },
  {
   "cell_type": "code",
   "execution_count": 5,
   "id": "fc302f4d",
   "metadata": {},
   "outputs": [
    {
     "name": "stdout",
     "output_type": "stream",
     "text": [
      "Torch uses cpu device.\n"
     ]
    }
   ],
   "source": [
    "# Set torch device to GPU is available, otherwise cpu.\n",
    "import torch\n",
    "device = 'cuda' if torch.cuda.is_available() else 'cpu'\n",
    "print(f'Torch uses {device} device.')"
   ]
  },
  {
   "cell_type": "code",
   "execution_count": 6,
   "id": "0e319548",
   "metadata": {},
   "outputs": [
    {
     "name": "stdout",
     "output_type": "stream",
     "text": [
      "Experiment paramereters:\n",
      "{'src_lang': 'de', 'tgt_lang': 'nl', 'model_path': './models/baseline-de-nl.pt'}\n"
     ]
    }
   ],
   "source": [
    "# Experiment paramereters.\n",
    "hparams = dotdict({\n",
    "    'src_lang': 'de',\n",
    "    'tgt_lang': 'nl',\n",
    "    'model_path': './models/baseline-de-nl.pt',\n",
    "})\n",
    "\n",
    "print('Experiment paramereters:')\n",
    "print(hparams)"
   ]
  },
  {
   "cell_type": "code",
   "execution_count": 7,
   "id": "a2dd73bd",
   "metadata": {},
   "outputs": [
    {
     "name": "stdout",
     "output_type": "stream",
     "text": [
      "Loaded metrics.\n"
     ]
    }
   ],
   "source": [
    "# Load Metrics.\n",
    "score_metric = load_metric('sacrebleu')\n",
    "\n",
    "print('Loaded metrics.')"
   ]
  },
  {
   "cell_type": "code",
   "execution_count": 8,
   "id": "ff32ca76",
   "metadata": {},
   "outputs": [
    {
     "name": "stdout",
     "output_type": "stream",
     "text": [
      "Tokenizer exists. Skipping training.\n",
      "Tokenizer exists. Skipping training.\n",
      "Loaded tokenizers.\n"
     ]
    }
   ],
   "source": [
    "# Load tokenizers.\n",
    "src_tokenizer = load_tokenizer(hparams.src_lang, hparams.tgt_lang)\n",
    "tgt_tokenizer = load_tokenizer(hparams.tgt_lang, hparams.src_lang)\n",
    "\n",
    "print('Loaded tokenizers.')"
   ]
  },
  {
   "cell_type": "code",
   "execution_count": 9,
   "id": "dc68d253",
   "metadata": {},
   "outputs": [
    {
     "name": "stdout",
     "output_type": "stream",
     "text": [
      "Created model.\n"
     ]
    }
   ],
   "source": [
    "# Create model.\n",
    "model = Transformer(src_tokenizer,\n",
    "                    tgt_tokenizer,\n",
    "                    score_metric=score_metric)\n",
    "\n",
    "print('Created model.')"
   ]
  },
  {
   "cell_type": "code",
   "execution_count": 10,
   "id": "f4d88f8a",
   "metadata": {},
   "outputs": [
    {
     "name": "stdout",
     "output_type": "stream",
     "text": [
      "Loaded model\n"
     ]
    }
   ],
   "source": [
    "# Load model.\n",
    "model.load_state_dict(torch.load(hparams.model_path))\n",
    "\n",
    "print('Loaded model')"
   ]
  },
  {
   "cell_type": "code",
   "execution_count": 41,
   "id": "f80ab6ab",
   "metadata": {},
   "outputs": [
    {
     "name": "stdout",
     "output_type": "stream",
     "text": [
      "\"Ich will das nicht mehr.\" --> \"Ik wil het niet meer....\"\n",
      "\"Ik wil het niet meer....\" =?= \" \"\n",
      "Sacre Bleu Score: 0.0\n"
     ]
    }
   ],
   "source": [
    "# Perform translation.\n",
    "model = model.to(device)\n",
    "src_text = 'Ich will das nicht mehr.'\n",
    "tgt_text = ' '\n",
    "\n",
    "translation = model.translate(src_text, method='greedy')\n",
    "score = score_metric.compute(predictions=[translation], references=[[tgt_text]])\n",
    "\n",
    "print(f'\"{src_text}\" --> \"{translation}\"')\n",
    "print(f'\"{translation}\" =?= \"{tgt_text}\"')\n",
    "print(f'Sacre Bleu Score: {score[\"score\"]}')"
   ]
  },
  {
   "cell_type": "code",
   "execution_count": null,
   "id": "6ae9136e",
   "metadata": {},
   "outputs": [],
   "source": []
  }
 ],
 "metadata": {
  "kernelspec": {
   "display_name": "Python 3 (ipykernel)",
   "language": "python",
   "name": "python3"
  },
  "language_info": {
   "codemirror_mode": {
    "name": "ipython",
    "version": 3
   },
   "file_extension": ".py",
   "mimetype": "text/x-python",
   "name": "python",
   "nbconvert_exporter": "python",
   "pygments_lexer": "ipython3",
   "version": "3.10.4"
  }
 },
 "nbformat": 4,
 "nbformat_minor": 5
}
