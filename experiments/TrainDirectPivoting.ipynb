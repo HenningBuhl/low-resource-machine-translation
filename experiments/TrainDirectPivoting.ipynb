{
 "cells": [
  {
   "cell_type": "code",
   "execution_count": 1,
   "id": "e219183d",
   "metadata": {},
   "outputs": [],
   "source": [
    "# Add src module directory to system path for subsecuent imports.\n",
    "import os\n",
    "import sys\n",
    "sys.path.insert(0, '../src')"
   ]
  },
  {
   "cell_type": "code",
   "execution_count": 2,
   "id": "aa380261",
   "metadata": {},
   "outputs": [],
   "source": [
    "from util import is_notebook\n",
    "\n",
    "# Settings (only in Jupyter Notebooks).\n",
    "if is_notebook():\n",
    "    # Module reloading.\n",
    "    %load_ext autoreload\n",
    "    # aimport?\n",
    "    %autoreload 2\n",
    "    # Plot settings.\n",
    "    %matplotlib inline"
   ]
  },
  {
   "cell_type": "code",
   "execution_count": 3,
   "id": "843ca766",
   "metadata": {},
   "outputs": [],
   "source": [
    "# Imports.\n",
    "import pytorch_lightning as pl\n",
    "from pytorch_lightning import Trainer\n",
    "from torch.utils.data import DataLoader\n",
    "from datasets import load_metric\n",
    "\n",
    "from constants import *\n",
    "from util import *\n",
    "from transformer import Transformer\n",
    "from tokenizer import load_tokenizer\n",
    "from data import download_data, load_data\n",
    "from plotting import plot_metric\n",
    "from metric_logging import MetricLogger"
   ]
  },
  {
   "cell_type": "code",
   "execution_count": 4,
   "id": "4cb963cf",
   "metadata": {},
   "outputs": [
    {
     "name": "stderr",
     "output_type": "stream",
     "text": [
      "Global seed set to 0\n"
     ]
    },
    {
     "data": {
      "text/plain": [
       "0"
      ]
     },
     "execution_count": 4,
     "metadata": {},
     "output_type": "execute_result"
    }
   ],
   "source": [
    "# Set seed.\n",
    "from pytorch_lightning import seed_everything\n",
    "seed_everything(0, workers=True)"
   ]
  },
  {
   "cell_type": "code",
   "execution_count": 5,
   "id": "602b6bab",
   "metadata": {},
   "outputs": [
    {
     "name": "stdout",
     "output_type": "stream",
     "text": [
      "Experiment paramereters:\n",
      "{'src_lang': 'de', 'pvt_lang': 'nl', 'tgt_lang': 'en', 'src_pvt_model_path': 'models/baseline-de-nl.pt', 'pvt_tgt_model_path': 'models/baseline-nl-en.pt', 'batch_size': 80, 'max_epochs': 10, 'max_examples': -1, 'gpus': 1, 'num_workers': 4, 'ckpt_path': None}\n"
     ]
    }
   ],
   "source": [
    "# Experiment paramereters.\n",
    "hparams = dotdict({\n",
    "    'src_lang': 'de',\n",
    "    'pvt_lang': 'nl',\n",
    "    'tgt_lang': 'en',\n",
    "    'src_pvt_model_path': 'models/baseline-de-nl.pt',\n",
    "    'pvt_tgt_model_path': 'models/baseline-nl-en.pt',\n",
    "    'batch_size': 80,\n",
    "    'max_epochs': 10,\n",
    "    'max_examples': 10_000,\n",
    "    'gpus': 1,\n",
    "    'num_workers': 4,\n",
    "    'ckpt_path': None,\n",
    "})\n",
    "\n",
    "print('Experiment paramereters:')\n",
    "print(hparams)"
   ]
  },
  {
   "cell_type": "code",
   "execution_count": 6,
   "id": "77661284",
   "metadata": {},
   "outputs": [
    {
     "name": "stdout",
     "output_type": "stream",
     "text": [
      "Dir \"./data\" already exists.\n",
      "Dir \"./runs\" already exists.\n",
      "Dir \"./runs\\direct-pivoting-de-nl-en-2022.09.15-16.53.59\" does not exist, creating it.\n",
      "Dir \"./runs\\direct-pivoting-de-nl-en-2022.09.15-16.53.59\\checkpoints\" does not exist, creating it.\n",
      "Dir \"./runs\\direct-pivoting-de-nl-en-2022.09.15-16.53.59\\results\" does not exist, creating it.\n",
      "Dir \"./runs\\direct-pivoting-de-nl-en-2022.09.15-16.53.59\\pre-training-eval-results\" does not exist, creating it.\n",
      "Created directories.\n"
     ]
    }
   ],
   "source": [
    "# Constant directories.\n",
    "data_dir = os.path.join('./', 'data')\n",
    "tokenizers_dir = os.path.join('./', 'tokenizers')\n",
    "runs_dir = os.path.join('./', 'runs')\n",
    "\n",
    "# Experiment directories.\n",
    "run_dir = os.path.join(runs_dir, f'direct-pivoting-{hparams.src_lang}-{hparams.pvt_lang}-{hparams.tgt_lang}-{get_time_as_string()}')\n",
    "model_checkpoints_dir = os.path.join(run_dir, 'checkpoints')\n",
    "results_dir = os.path.join(run_dir, 'results')\n",
    "pre_training_eval_results_dir = os.path.join(run_dir, 'pre-training-eval-results')\n",
    "\n",
    "dirs = [data_dir, tokenizers_dir, runs_dir, run_dir, model_checkpoints_dir, results_dir, pre_training_eval_results_dir]\n",
    "for dir in dirs:\n",
    "    create_dir(dir)\n",
    "\n",
    "print('Created directories.')"
   ]
  },
  {
   "cell_type": "code",
   "execution_count": 7,
   "id": "53c5a6e3",
   "metadata": {},
   "outputs": [
    {
     "name": "stdout",
     "output_type": "stream",
     "text": [
      "Loaded metrics.\n"
     ]
    }
   ],
   "source": [
    "# Load Metrics.\n",
    "score_metric = load_metric('sacrebleu')\n",
    "\n",
    "print('Loaded metrics.')"
   ]
  },
  {
   "cell_type": "code",
   "execution_count": 8,
   "id": "5484f36c",
   "metadata": {},
   "outputs": [
    {
     "name": "stdout",
     "output_type": "stream",
     "text": [
      "File \"data\\de-en.zip\" already exists. Skipping download.\n",
      "Directory data\\de-en already exists. Skipping unzipping.\n"
     ]
    }
   ],
   "source": [
    "# Download data.\n",
    "download_data(hparams.src_lang, hparams.tgt_lang)"
   ]
  },
  {
   "cell_type": "code",
   "execution_count": 9,
   "id": "b5d5b5cf",
   "metadata": {},
   "outputs": [
    {
     "name": "stdout",
     "output_type": "stream",
     "text": [
      "Tokenizer exists. Skipping training.\n",
      "Tokenizer exists. Skipping training.\n",
      "Tokenizer exists. Skipping training.\n",
      "Loaded tokenizers.\n"
     ]
    }
   ],
   "source": [
    "# Load tokenizers.\n",
    "src_tokenizer = load_tokenizer(hparams.src_lang, hparams.tgt_lang)\n",
    "pvt_tokenizer = load_tokenizer(hparams.pvt_lang, hparams.tgt_lang)\n",
    "tgt_tokenizer = load_tokenizer(hparams.tgt_lang, hparams.src_lang)\n",
    "\n",
    "print('Loaded tokenizers.')"
   ]
  },
  {
   "cell_type": "code",
   "execution_count": 10,
   "id": "7e3318ad",
   "metadata": {},
   "outputs": [
    {
     "name": "stdout",
     "output_type": "stream",
     "text": [
      "Preprocessed data exists, loading from disk...\n",
      "Splitting de-en data...\n",
      "Data (de-en) split.\n",
      "Preprocessed data (de-en)\n",
      "\tTraining data:   1416094\n",
      "\tValidation data: 78671\n",
      "\tTest data:       78671\n"
     ]
    }
   ],
   "source": [
    "# Load data.\n",
    "train_dataset, val_dataset, test_dataset = load_data(hparams.src_lang,\n",
    "                                                     hparams.tgt_lang,\n",
    "                                                     src_tokenizer,\n",
    "                                                     tgt_tokenizer,\n",
    "                                                     hparams.max_examples)\n",
    "\n",
    "print(f'Preprocessed data ({hparams.src_lang}-{hparams.tgt_lang})')\n",
    "print(f'\\tTraining data:   {len(train_dataset)}')\n",
    "print(f'\\tValidation data: {len(val_dataset)}')\n",
    "print(f'\\tTest data:       {len(test_dataset)}')"
   ]
  },
  {
   "cell_type": "code",
   "execution_count": 11,
   "id": "735e8245",
   "metadata": {},
   "outputs": [
    {
     "name": "stdout",
     "output_type": "stream",
     "text": [
      "Created data loaders.\n"
     ]
    }
   ],
   "source": [
    "# Create data loaders.\n",
    "train_dataloader = DataLoader(train_dataset, batch_size=hparams.batch_size, num_workers=hparams.num_workers)\n",
    "val_dataloader = DataLoader(val_dataset, batch_size=hparams.batch_size, num_workers=hparams.num_workers)\n",
    "test_dataloader = DataLoader(test_dataset, batch_size=hparams.batch_size, num_workers=hparams.num_workers)\n",
    "\n",
    "print('Created data loaders.')"
   ]
  },
  {
   "cell_type": "code",
   "execution_count": 12,
   "id": "9fb021c1",
   "metadata": {},
   "outputs": [
    {
     "name": "stdout",
     "output_type": "stream",
     "text": [
      "Created models.\n"
     ]
    }
   ],
   "source": [
    "# Create models.\n",
    "src_pvt_model = Transformer(src_tokenizer,\n",
    "                            pvt_tokenizer,\n",
    "                            score_metric=score_metric)\n",
    "\n",
    "pvt_tgt_model = Transformer(pvt_tokenizer,\n",
    "                            tgt_tokenizer,\n",
    "                            score_metric=score_metric)\n",
    "\n",
    "print('Created models.')"
   ]
  },
  {
   "cell_type": "code",
   "execution_count": 13,
   "id": "6192cc78",
   "metadata": {
    "scrolled": true
   },
   "outputs": [
    {
     "name": "stdout",
     "output_type": "stream",
     "text": [
      "Loaded models.\n"
     ]
    }
   ],
   "source": [
    "# Load models.\n",
    "src_pvt_model.load_state_dict(torch.load(hparams.src_pvt_model_path))\n",
    "pvt_tgt_model.load_state_dict(torch.load(hparams.pvt_tgt_model_path))\n",
    "\n",
    "src_pvt_model.to(device)\n",
    "pvt_tgt_model.to(device)\n",
    "\n",
    "print('Loaded models.')"
   ]
  },
  {
   "cell_type": "code",
   "execution_count": 14,
   "id": "1f12c039",
   "metadata": {},
   "outputs": [],
   "source": [
    "# Create direct pivoting model.\n",
    "model = pvt_tgt_model\n",
    "model.src_tokenizer = src_tokenizer\n",
    "model.src_vocab_size = src_pvt_model.src_vocab_size\n",
    "model.src_embedding = src_pvt_model.src_embedding\n",
    "model.encoder = src_pvt_model.encoder"
   ]
  },
  {
   "cell_type": "code",
   "execution_count": 15,
   "id": "1e5f5875",
   "metadata": {},
   "outputs": [],
   "source": [
    "# Add aditional regularization to combat over-fitting on limited data.\n",
    "model.set_dropout_rate(0.3)\n",
    "model.weight_decay = 0.0"
   ]
  },
  {
   "cell_type": "code",
   "execution_count": 16,
   "id": "aae1f49b",
   "metadata": {},
   "outputs": [
    {
     "name": "stderr",
     "output_type": "stream",
     "text": [
      "GPU available: False, used: False\n",
      "TPU available: False, using: 0 TPU cores\n",
      "IPU available: False, using: 0 IPUs\n",
      "HPU available: False, using: 0 HPUs\n",
      "Running in fast_dev_run mode: will run a full train, val, test and prediction loop using 1 batch(es).\n",
      "`Trainer(limit_train_batches=1)` was configured so 1 batch per epoch will be used.\n",
      "`Trainer(limit_val_batches=1)` was configured so 1 batch will be used.\n",
      "`Trainer(limit_test_batches=1)` was configured so 1 batch will be used.\n",
      "`Trainer(limit_predict_batches=1)` was configured so 1 batch will be used.\n",
      "`Trainer(val_check_interval=1.0)` was configured so validation will run at the end of the training epoch..\n"
     ]
    },
    {
     "name": "stdout",
     "output_type": "stream",
     "text": [
      "Created trainer.\n"
     ]
    }
   ],
   "source": [
    "# Create trainer.\n",
    "metric_logger = MetricLogger()\n",
    "checkpoint_callback = pl.callbacks.ModelCheckpoint(\n",
    "          dirpath=model_checkpoints_dir,\n",
    "          verbose=True,\n",
    "          save_last=True,\n",
    "      )\n",
    "\n",
    "trainer = Trainer(deterministic=True,\n",
    "                  fast_dev_run=False,\n",
    "                  max_epochs=hparams.max_epochs,\n",
    "                  logger=metric_logger,\n",
    "                  log_every_n_steps=1,\n",
    "                  enable_checkpointing=True,\n",
    "                  default_root_dir=model_checkpoints_dir,\n",
    "                  callbacks=[checkpoint_callback],\n",
    "                  gpus=hparams.gpus if str(device) == 'cuda' else 0)\n",
    "\n",
    "print('Created trainer.')"
   ]
  },
  {
   "cell_type": "code",
   "execution_count": 17,
   "id": "cdfcf7d4",
   "metadata": {},
   "outputs": [],
   "source": [
    "# Save untrained model.\n",
    "model_path = os.path.join(pre_training_eval_results_dir, 'model.pt')\n",
    "torch.save(model.state_dict(), model_path)"
   ]
  },
  {
   "cell_type": "code",
   "execution_count": 18,
   "id": "41535c01",
   "metadata": {},
   "outputs": [
    {
     "data": {
      "application/vnd.jupyter.widget-view+json": {
       "model_id": "b0c421c279f547b18c0371eaa0816b57",
       "version_major": 2,
       "version_minor": 0
      },
      "text/plain": [
       "Testing: 0it [00:00, ?it/s]"
      ]
     },
     "metadata": {},
     "output_type": "display_data"
    },
    {
     "name": "stdout",
     "output_type": "stream",
     "text": [
      "────────────────────────────────────────────────────────────────────────────────────────────────────────────────────────\n",
      "       Test metric             DataLoader 0\n",
      "────────────────────────────────────────────────────────────────────────────────────────────────────────────────────────\n",
      "     test_loss_epoch        1.2056682109832764\n",
      "    test_score_epoch        0.7950282692909241\n",
      "────────────────────────────────────────────────────────────────────────────────────────────────────────────────────────\n",
      "[{'test_loss_epoch': 1.2056682109832764, 'test_score_epoch': 0.7950282692909241}]\n"
     ]
    }
   ],
   "source": [
    "# Evaluate performance.\n",
    "test_metrics = trainer.test(model, dataloaders=test_dataloader)\n",
    "print(test_metrics)\n",
    "metric_logger.manual_save(pre_training_eval_results_dir)\n",
    "metric_logger.reset()"
   ]
  },
  {
   "cell_type": "code",
   "execution_count": 19,
   "id": "4caf9790",
   "metadata": {},
   "outputs": [
    {
     "name": "stderr",
     "output_type": "stream",
     "text": [
      "\n",
      "  | Name               | Type              | Params\n",
      "---------------------------------------------------------\n",
      "0 | src_embedding      | Embedding         | 8.2 M \n",
      "1 | tgt_embedding      | Embedding         | 8.2 M \n",
      "2 | positional_encoder | PositionalEncoder | 0     \n",
      "3 | encoder            | Encoder           | 18.9 M\n",
      "4 | decoder            | Decoder           | 25.2 M\n",
      "5 | output_linear      | Linear            | 8.2 M \n",
      "6 | softmax            | LogSoftmax        | 0     \n",
      "---------------------------------------------------------\n",
      "68.7 M    Trainable params\n",
      "0         Non-trainable params\n",
      "68.7 M    Total params\n",
      "274.930   Total estimated model params size (MB)\n"
     ]
    },
    {
     "data": {
      "application/vnd.jupyter.widget-view+json": {
       "model_id": "c3db05fc7f6f47b5bf2cb5c5ee413b42",
       "version_major": 2,
       "version_minor": 0
      },
      "text/plain": [
       "Training: 0it [00:00, ?it/s]"
      ]
     },
     "metadata": {},
     "output_type": "display_data"
    },
    {
     "data": {
      "application/vnd.jupyter.widget-view+json": {
       "model_id": "",
       "version_major": 2,
       "version_minor": 0
      },
      "text/plain": [
       "Validation: 0it [00:00, ?it/s]"
      ]
     },
     "metadata": {},
     "output_type": "display_data"
    }
   ],
   "source": [
    "# Training.\n",
    "trainer.fit(model,\n",
    "            train_dataloaders=train_dataloader,\n",
    "            val_dataloaders=val_dataloader)"
   ]
  },
  {
   "cell_type": "code",
   "execution_count": 20,
   "id": "7c022dcc",
   "metadata": {},
   "outputs": [],
   "source": [
    "# Save model.\n",
    "model_path = os.path.join(run_dir, 'model.pt')\n",
    "torch.save(model.state_dict(), model_path)"
   ]
  },
  {
   "cell_type": "code",
   "execution_count": 21,
   "id": "4faadbeb",
   "metadata": {},
   "outputs": [
    {
     "data": {
      "application/vnd.jupyter.widget-view+json": {
       "model_id": "cea6ff47eca845a0a16dd641e7e4c91d",
       "version_major": 2,
       "version_minor": 0
      },
      "text/plain": [
       "Testing: 0it [00:00, ?it/s]"
      ]
     },
     "metadata": {},
     "output_type": "display_data"
    },
    {
     "name": "stdout",
     "output_type": "stream",
     "text": [
      "────────────────────────────────────────────────────────────────────────────────────────────────────────────────────────\n",
      "       Test metric             DataLoader 0\n",
      "────────────────────────────────────────────────────────────────────────────────────────────────────────────────────────\n",
      "     test_loss_epoch        1.1716341972351074\n",
      "    test_score_epoch        0.8549150228500366\n",
      "────────────────────────────────────────────────────────────────────────────────────────────────────────────────────────\n",
      "[{'test_loss_epoch': 1.1716341972351074, 'test_score_epoch': 0.8549150228500366}]\n"
     ]
    }
   ],
   "source": [
    "# Testing.\n",
    "test_metrics = trainer.test(model, dataloaders=test_dataloader)\n",
    "print(test_metrics)"
   ]
  },
  {
   "cell_type": "code",
   "execution_count": 22,
   "id": "1c235a1d",
   "metadata": {},
   "outputs": [
    {
     "ename": "IndexError",
     "evalue": "list index out of range",
     "output_type": "error",
     "traceback": [
      "\u001b[1;31m---------------------------------------------------------------------------\u001b[0m",
      "\u001b[1;31mIndexError\u001b[0m                                Traceback (most recent call last)",
      "Input \u001b[1;32mIn [22]\u001b[0m, in \u001b[0;36m<cell line: 3>\u001b[1;34m()\u001b[0m\n\u001b[0;32m      1\u001b[0m \u001b[38;5;66;03m# Plot loss metrics.\u001b[39;00m\n\u001b[0;32m      2\u001b[0m save_path \u001b[38;5;241m=\u001b[39m os\u001b[38;5;241m.\u001b[39mpath\u001b[38;5;241m.\u001b[39mjoin(results_dir, \u001b[38;5;124m'\u001b[39m\u001b[38;5;124mloss.svg\u001b[39m\u001b[38;5;124m'\u001b[39m)\n\u001b[1;32m----> 3\u001b[0m \u001b[43mplot_metric\u001b[49m\u001b[43m(\u001b[49m\u001b[43mmetric_logger\u001b[49m\u001b[38;5;241;43m.\u001b[39;49m\u001b[43mmetrics\u001b[49m\u001b[43m,\u001b[49m\u001b[43m \u001b[49m\u001b[38;5;124;43m'\u001b[39;49m\u001b[38;5;124;43mloss\u001b[39;49m\u001b[38;5;124;43m'\u001b[39;49m\u001b[43m,\u001b[49m\u001b[43m \u001b[49m\u001b[38;5;124;43m'\u001b[39;49m\u001b[38;5;124;43mLoss\u001b[39;49m\u001b[38;5;124;43m'\u001b[39;49m\u001b[43m,\u001b[49m\u001b[43m \u001b[49m\u001b[43msave_path\u001b[49m\u001b[38;5;241;43m=\u001b[39;49m\u001b[43msave_path\u001b[49m\u001b[43m)\u001b[49m\n",
      "File \u001b[1;32m~\\Desktop\\transformer-based-nmt-recipe\\experiments\\../src\\plotting.py:15\u001b[0m, in \u001b[0;36mplot_metric\u001b[1;34m(metrics, metric, title, save_path, test_only)\u001b[0m\n\u001b[0;32m     13\u001b[0m plt\u001b[38;5;241m.\u001b[39mplot(epoch_steps, metrics[\u001b[38;5;124mf\u001b[39m\u001b[38;5;124m'\u001b[39m\u001b[38;5;124mtrain_\u001b[39m\u001b[38;5;132;01m{\u001b[39;00mmetric\u001b[38;5;132;01m}\u001b[39;00m\u001b[38;5;124m_epoch\u001b[39m\u001b[38;5;124m'\u001b[39m], linestyle\u001b[38;5;241m=\u001b[39m\u001b[38;5;124m'\u001b[39m\u001b[38;5;124m-\u001b[39m\u001b[38;5;124m'\u001b[39m, marker\u001b[38;5;241m=\u001b[39m\u001b[38;5;124m'\u001b[39m\u001b[38;5;124m.\u001b[39m\u001b[38;5;124m'\u001b[39m, color\u001b[38;5;241m=\u001b[39m\u001b[38;5;124m'\u001b[39m\u001b[38;5;124mred\u001b[39m\u001b[38;5;124m'\u001b[39m, label\u001b[38;5;241m=\u001b[39m\u001b[38;5;124mf\u001b[39m\u001b[38;5;124m'\u001b[39m\u001b[38;5;124mtrain \u001b[39m\u001b[38;5;132;01m{\u001b[39;00mmetric\u001b[38;5;132;01m}\u001b[39;00m\u001b[38;5;124m (epochs)\u001b[39m\u001b[38;5;124m'\u001b[39m)\n\u001b[0;32m     14\u001b[0m plt\u001b[38;5;241m.\u001b[39mplot(epoch_steps, metrics[\u001b[38;5;124mf\u001b[39m\u001b[38;5;124m'\u001b[39m\u001b[38;5;124mval_\u001b[39m\u001b[38;5;132;01m{\u001b[39;00mmetric\u001b[38;5;132;01m}\u001b[39;00m\u001b[38;5;124m_epoch\u001b[39m\u001b[38;5;124m'\u001b[39m], linestyle\u001b[38;5;241m=\u001b[39m\u001b[38;5;124m'\u001b[39m\u001b[38;5;124m-\u001b[39m\u001b[38;5;124m'\u001b[39m, marker\u001b[38;5;241m=\u001b[39m\u001b[38;5;124m'\u001b[39m\u001b[38;5;124m.\u001b[39m\u001b[38;5;124m'\u001b[39m, color\u001b[38;5;241m=\u001b[39m\u001b[38;5;124m'\u001b[39m\u001b[38;5;124morange\u001b[39m\u001b[38;5;124m'\u001b[39m, label\u001b[38;5;241m=\u001b[39m\u001b[38;5;124mf\u001b[39m\u001b[38;5;124m'\u001b[39m\u001b[38;5;124mval \u001b[39m\u001b[38;5;132;01m{\u001b[39;00mmetric\u001b[38;5;132;01m}\u001b[39;00m\u001b[38;5;124m (epochs)\u001b[39m\u001b[38;5;124m'\u001b[39m)\n\u001b[1;32m---> 15\u001b[0m plt\u001b[38;5;241m.\u001b[39mplot([epochs], [\u001b[43mmetrics\u001b[49m\u001b[43m[\u001b[49m\u001b[38;5;124;43mf\u001b[39;49m\u001b[38;5;124;43m'\u001b[39;49m\u001b[38;5;124;43mtest_\u001b[39;49m\u001b[38;5;132;43;01m{\u001b[39;49;00m\u001b[43mmetric\u001b[49m\u001b[38;5;132;43;01m}\u001b[39;49;00m\u001b[38;5;124;43m_epoch\u001b[39;49m\u001b[38;5;124;43m'\u001b[39;49m\u001b[43m]\u001b[49m\u001b[43m[\u001b[49m\u001b[38;5;241;43m-\u001b[39;49m\u001b[38;5;241;43m1\u001b[39;49m\u001b[43m]\u001b[49m], linestyle\u001b[38;5;241m=\u001b[39m\u001b[38;5;124m'\u001b[39m\u001b[38;5;124m'\u001b[39m, marker\u001b[38;5;241m=\u001b[39m\u001b[38;5;124m'\u001b[39m\u001b[38;5;124mo\u001b[39m\u001b[38;5;124m'\u001b[39m, markersize\u001b[38;5;241m=\u001b[39m\u001b[38;5;241m3\u001b[39m, color\u001b[38;5;241m=\u001b[39m\u001b[38;5;124m'\u001b[39m\u001b[38;5;124mcyan\u001b[39m\u001b[38;5;124m'\u001b[39m, label\u001b[38;5;241m=\u001b[39m\u001b[38;5;124mf\u001b[39m\u001b[38;5;124m'\u001b[39m\u001b[38;5;124mtest \u001b[39m\u001b[38;5;132;01m{\u001b[39;00mmetric\u001b[38;5;132;01m}\u001b[39;00m\u001b[38;5;124m'\u001b[39m)\n\u001b[0;32m     17\u001b[0m plt\u001b[38;5;241m.\u001b[39mtitle(title)\n\u001b[0;32m     18\u001b[0m plt\u001b[38;5;241m.\u001b[39mxlabel(\u001b[38;5;124m'\u001b[39m\u001b[38;5;124mepochs\u001b[39m\u001b[38;5;124m'\u001b[39m)\n",
      "\u001b[1;31mIndexError\u001b[0m: list index out of range"
     ]
    },
    {
     "data": {
      "image/png": "[encoded data removed]",
      "text/plain": [
       "<Figure size 432x288 with 1 Axes>"
      ]
     },
     "metadata": {
      "needs_background": "light"
     },
     "output_type": "display_data"
    }
   ],
   "source": [
    "# Plot loss metrics.\n",
    "save_path = os.path.join(results_dir, 'loss.svg')\n",
    "plot_metric(metric_logger.metrics, 'loss', 'Loss', save_path=save_path)"
   ]
  },
  {
   "cell_type": "code",
   "execution_count": null,
   "id": "807a0c7d",
   "metadata": {},
   "outputs": [],
   "source": [
    "# Plot score metric.\n",
    "save_path = os.path.join(results_dir, 'score.svg')\n",
    "plot_metric(metric_logger.metrics, 'score', 'Score', save_path=save_path)"
   ]
  },
  {
   "cell_type": "code",
   "execution_count": null,
   "id": "59167622",
   "metadata": {},
   "outputs": [],
   "source": [
    "# Save hyper parameters.\n",
    "save_dict(run_dir, hparams, 'hparams')"
   ]
  },
  {
   "cell_type": "code",
   "execution_count": null,
   "id": "8b5e8e7e",
   "metadata": {},
   "outputs": [],
   "source": [
    "# Save recorded metrics.\n",
    "metric_logger.manual_save(results_dir)"
   ]
  },
  {
   "cell_type": "code",
   "execution_count": null,
   "id": "99a80348",
   "metadata": {},
   "outputs": [],
   "source": []
  }
 ],
 "metadata": {
  "kernelspec": {
   "display_name": "Python 3.10.6 64-bit",
   "language": "python",
   "name": "python3"
  },
  "language_info": {
   "codemirror_mode": {
    "name": "ipython",
    "version": 3
   },
   "file_extension": ".py",
   "mimetype": "text/x-python",
   "name": "python",
   "nbconvert_exporter": "python",
   "pygments_lexer": "ipython3",
   "version": "3.10.6"
  },
  "vscode": {
   "interpreter": {
    "hash": "e16c6ae93e97f8b72f7c60789e33aa05f059bdee2efc0781f4556fc1fbea3a2d"
   }
  }
 },
 "nbformat": 4,
 "nbformat_minor": 5
}
